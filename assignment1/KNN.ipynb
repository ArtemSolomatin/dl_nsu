{
 "cells": [
  {
   "cell_type": "markdown",
   "metadata": {},
   "source": [
    "# Задание 1.1 - Метод К-ближайших соседей (K-neariest neighbor classifier)\n",
    "\n",
    "В первом задании вы реализуете один из простейших алгоритмов машинного обучения - классификатор на основе метода K-ближайших соседей.\n",
    "Мы применим его к задачам\n",
    "- бинарной классификации (то есть, только двум классам)\n",
    "- многоклассовой классификации (то есть, нескольким классам)\n",
    "\n",
    "Так как методу необходим гиперпараметр (hyperparameter) - количество соседей, мы выберем его на основе кросс-валидации (cross-validation).\n",
    "\n",
    "Наша основная задача - научиться пользоваться numpy и представлять вычисления в векторном виде, а также ознакомиться с основными метриками, важными для задачи классификации.\n",
    "\n",
    "Перед выполнением задания:\n",
    "- запустите файл `download_data.sh`, чтобы скачать данные, которые мы будем использовать для тренировки\n",
    "- установите все необходимые библиотеки, запустив `pip install -r requirements.txt` (если раньше не работали с `pip`, вам сюда - https://pip.pypa.io/en/stable/quickstart/)\n",
    "\n",
    "Если вы раньше не работали с numpy, вам может помочь tutorial. Например этот:  \n",
    "http://cs231n.github.io/python-numpy-tutorial/"
   ]
  },
  {
   "cell_type": "code",
   "execution_count": 1,
   "metadata": {},
   "outputs": [],
   "source": [
    "import numpy as np\n",
    "import matplotlib.pyplot as plt\n",
    "\n",
    "%matplotlib inline\n",
    "\n",
    "%load_ext autoreload\n",
    "%autoreload 2"
   ]
  },
  {
   "cell_type": "code",
   "execution_count": 2,
   "metadata": {},
   "outputs": [],
   "source": [
    "from dataset import load_svhn\n",
    "from knn import KNN\n",
    "from metrics import binary_classification_metrics, multiclass_accuracy"
   ]
  },
  {
   "cell_type": "markdown",
   "metadata": {},
   "source": [
    "# Загрузим и визуализируем данные\n",
    "\n",
    "В задании уже дана функция `load_svhn`, загружающая данные с диска. Она возвращает данные для тренировки и для тестирования как numpy arrays.\n",
    "\n",
    "Мы будем использовать цифры из датасета Street View House Numbers (SVHN, http://ufldl.stanford.edu/housenumbers/), чтобы решать задачу хоть сколько-нибудь сложнее MNIST."
   ]
  },
  {
   "cell_type": "code",
   "execution_count": 3,
   "metadata": {},
   "outputs": [],
   "source": [
    "train_X, train_y, test_X, test_y = load_svhn(\"data\", max_train=1000, max_test=100)"
   ]
  },
  {
   "cell_type": "code",
   "execution_count": 4,
   "metadata": {
    "scrolled": true
   },
   "outputs": [
    {
     "data": {
      "text/plain": [
       "array([[[[110., 118., 130.],\n",
       "         [117., 125., 136.],\n",
       "         [121., 126., 137.],\n",
       "         ...,\n",
       "         [ 88.,  75.,  71.],\n",
       "         [ 95.,  79.,  72.],\n",
       "         [100.,  82.,  72.]],\n",
       "\n",
       "        [[121., 130., 140.],\n",
       "         [129., 136., 146.],\n",
       "         [134., 140., 149.],\n",
       "         ...,\n",
       "         [ 87.,  74.,  71.],\n",
       "         [ 94.,  78.,  71.],\n",
       "         [100.,  82.,  72.]],\n",
       "\n",
       "        [[116., 125., 134.],\n",
       "         [122., 130., 138.],\n",
       "         [126., 131., 139.],\n",
       "         ...,\n",
       "         [ 87.,  74.,  71.],\n",
       "         [ 94.,  78.,  71.],\n",
       "         [ 99.,  81.,  71.]],\n",
       "\n",
       "        ...,\n",
       "\n",
       "        [[ 88.,  76.,  85.],\n",
       "         [ 92.,  82.,  89.],\n",
       "         [ 94.,  85.,  92.],\n",
       "         ...,\n",
       "         [ 93.,  73.,  64.],\n",
       "         [101.,  79.,  67.],\n",
       "         [108.,  85.,  71.]],\n",
       "\n",
       "        [[ 89.,  75.,  80.],\n",
       "         [ 93.,  81.,  86.],\n",
       "         [ 96.,  84.,  89.],\n",
       "         ...,\n",
       "         [ 95.,  74.,  64.],\n",
       "         [103.,  79.,  67.],\n",
       "         [109.,  85.,  71.]],\n",
       "\n",
       "        [[ 86.,  70.,  70.],\n",
       "         [ 90.,  75.,  77.],\n",
       "         [ 92.,  77.,  80.],\n",
       "         ...,\n",
       "         [ 96.,  75.,  64.],\n",
       "         [104.,  79.,  67.],\n",
       "         [110.,  84.,  71.]]],\n",
       "\n",
       "\n",
       "       [[[144., 145., 151.],\n",
       "         [154., 157., 162.],\n",
       "         [156., 164., 166.],\n",
       "         ...,\n",
       "         [ 50.,  44.,  49.],\n",
       "         [ 59.,  53.,  58.],\n",
       "         [ 69.,  63.,  65.]],\n",
       "\n",
       "        [[212., 213., 219.],\n",
       "         [214., 220., 224.],\n",
       "         [216., 226., 229.],\n",
       "         ...,\n",
       "         [ 96.,  93.,  98.],\n",
       "         [120., 118., 121.],\n",
       "         [142., 139., 140.]],\n",
       "\n",
       "        [[230., 232., 242.],\n",
       "         [215., 223., 231.],\n",
       "         [210., 220., 230.],\n",
       "         ...,\n",
       "         [145., 145., 148.],\n",
       "         [179., 180., 182.],\n",
       "         [203., 204., 205.]],\n",
       "\n",
       "        ...,\n",
       "\n",
       "        [[ 81.,  97., 117.],\n",
       "         [ 85.,  98., 121.],\n",
       "         [ 93., 102., 124.],\n",
       "         ...,\n",
       "         [ 95.,  89.,  93.],\n",
       "         [ 96.,  90.,  95.],\n",
       "         [113., 106., 113.]],\n",
       "\n",
       "        [[134., 146., 169.],\n",
       "         [141., 153., 177.],\n",
       "         [156., 165., 186.],\n",
       "         ...,\n",
       "         [111., 106., 109.],\n",
       "         [130., 126., 128.],\n",
       "         [161., 159., 161.]],\n",
       "\n",
       "        [[171., 183., 203.],\n",
       "         [168., 179., 200.],\n",
       "         [173., 181., 201.],\n",
       "         ...,\n",
       "         [142., 139., 141.],\n",
       "         [164., 162., 162.],\n",
       "         [190., 192., 189.]]],\n",
       "\n",
       "\n",
       "       [[[142., 153., 159.],\n",
       "         [141., 150., 156.],\n",
       "         [140., 148., 152.],\n",
       "         ...,\n",
       "         [ 67.,  66.,  69.],\n",
       "         [ 70.,  67.,  69.],\n",
       "         [ 73.,  69.,  69.]],\n",
       "\n",
       "        [[132., 144., 150.],\n",
       "         [137., 147., 152.],\n",
       "         [140., 149., 152.],\n",
       "         ...,\n",
       "         [ 72.,  71.,  76.],\n",
       "         [ 76.,  73.,  78.],\n",
       "         [ 81.,  76.,  79.]],\n",
       "\n",
       "        [[120., 134., 141.],\n",
       "         [134., 145., 151.],\n",
       "         [140., 150., 153.],\n",
       "         ...,\n",
       "         [ 77.,  75.,  81.],\n",
       "         [ 81.,  77.,  83.],\n",
       "         [ 86.,  80.,  86.]],\n",
       "\n",
       "        ...,\n",
       "\n",
       "        [[ 77.,  88.,  90.],\n",
       "         [ 88.,  98., 100.],\n",
       "         [109., 119., 121.],\n",
       "         ...,\n",
       "         [ 80.,  72.,  76.],\n",
       "         [ 79.,  70.,  72.],\n",
       "         [ 80.,  70.,  72.]],\n",
       "\n",
       "        [[ 97., 108., 110.],\n",
       "         [109., 120., 122.],\n",
       "         [125., 135., 137.],\n",
       "         ...,\n",
       "         [ 79.,  69.,  73.],\n",
       "         [ 78.,  68.,  70.],\n",
       "         [ 79.,  69.,  70.]],\n",
       "\n",
       "        [[119., 131., 131.],\n",
       "         [133., 145., 145.],\n",
       "         [140., 151., 152.],\n",
       "         ...,\n",
       "         [ 78.,  67.,  72.],\n",
       "         [ 78.,  67.,  70.],\n",
       "         [ 78.,  66.,  68.]]],\n",
       "\n",
       "\n",
       "       ...,\n",
       "\n",
       "\n",
       "       [[[ 56.,  52.,  51.],\n",
       "         [ 56.,  52.,  53.],\n",
       "         [ 56.,  52.,  53.],\n",
       "         ...,\n",
       "         [ 42.,  48.,  58.],\n",
       "         [ 38.,  46.,  55.],\n",
       "         [ 32.,  39.,  49.]],\n",
       "\n",
       "        [[ 54.,  53.,  51.],\n",
       "         [ 56.,  52.,  53.],\n",
       "         [ 56.,  54.,  55.],\n",
       "         ...,\n",
       "         [ 51.,  61.,  70.],\n",
       "         [ 47.,  56.,  65.],\n",
       "         [ 35.,  45.,  54.]],\n",
       "\n",
       "        [[ 57.,  56.,  54.],\n",
       "         [ 58.,  56.,  57.],\n",
       "         [ 59.,  57.,  58.],\n",
       "         ...,\n",
       "         [ 59.,  72.,  81.],\n",
       "         [ 55.,  66.,  76.],\n",
       "         [ 41.,  51.,  61.]],\n",
       "\n",
       "        ...,\n",
       "\n",
       "        [[ 57.,  53.,  52.],\n",
       "         [ 55.,  49.,  49.],\n",
       "         [ 55.,  48.,  48.],\n",
       "         ...,\n",
       "         [ 58.,  57.,  60.],\n",
       "         [ 58.,  57.,  60.],\n",
       "         [ 56.,  54.,  59.]],\n",
       "\n",
       "        [[ 58.,  54.,  53.],\n",
       "         [ 59.,  53.,  53.],\n",
       "         [ 59.,  52.,  52.],\n",
       "         ...,\n",
       "         [ 56.,  51.,  53.],\n",
       "         [ 57.,  52.,  54.],\n",
       "         [ 56.,  51.,  56.]],\n",
       "\n",
       "        [[ 61.,  55.,  55.],\n",
       "         [ 64.,  55.,  56.],\n",
       "         [ 62.,  53.,  54.],\n",
       "         ...,\n",
       "         [ 64.,  55.,  56.],\n",
       "         [ 65.,  56.,  57.],\n",
       "         [ 64.,  59.,  61.]]],\n",
       "\n",
       "\n",
       "       [[[ 76.,  59.,  69.],\n",
       "         [ 76.,  60.,  72.],\n",
       "         [ 72.,  59.,  74.],\n",
       "         ...,\n",
       "         [186., 193., 199.],\n",
       "         [193., 201., 205.],\n",
       "         [192., 200., 202.]],\n",
       "\n",
       "        [[ 72.,  56.,  66.],\n",
       "         [ 77.,  61.,  73.],\n",
       "         [ 76.,  63.,  78.],\n",
       "         ...,\n",
       "         [185., 194., 201.],\n",
       "         [181., 190., 196.],\n",
       "         [184., 193., 198.]],\n",
       "\n",
       "        [[ 65.,  49.,  60.],\n",
       "         [ 71.,  55.,  68.],\n",
       "         [ 74.,  61.,  76.],\n",
       "         ...,\n",
       "         [159., 168., 177.],\n",
       "         [151., 160., 168.],\n",
       "         [160., 169., 177.]],\n",
       "\n",
       "        ...,\n",
       "\n",
       "        [[ 85.,  70.,  75.],\n",
       "         [ 85.,  72.,  80.],\n",
       "         [ 90.,  79.,  87.],\n",
       "         ...,\n",
       "         [180., 190., 194.],\n",
       "         [181., 192., 192.],\n",
       "         [185., 196., 192.]],\n",
       "\n",
       "        [[ 87.,  72.,  79.],\n",
       "         [ 85.,  74.,  82.],\n",
       "         [ 88.,  78.,  86.],\n",
       "         ...,\n",
       "         [181., 191., 191.],\n",
       "         [184., 195., 191.],\n",
       "         [186., 195., 192.]],\n",
       "\n",
       "        [[ 88.,  73.,  80.],\n",
       "         [ 84.,  73.,  81.],\n",
       "         [ 83.,  77.,  85.],\n",
       "         ...,\n",
       "         [181., 190., 185.],\n",
       "         [181., 190., 185.],\n",
       "         [184., 193., 190.]]],\n",
       "\n",
       "\n",
       "       [[[180., 185., 181.],\n",
       "         [179., 184., 180.],\n",
       "         [180., 185., 181.],\n",
       "         ...,\n",
       "         [194., 195., 196.],\n",
       "         [194., 195., 197.],\n",
       "         [194., 195., 197.]],\n",
       "\n",
       "        [[181., 184., 180.],\n",
       "         [181., 184., 181.],\n",
       "         [182., 185., 182.],\n",
       "         ...,\n",
       "         [193., 195., 194.],\n",
       "         [193., 195., 195.],\n",
       "         [194., 194., 195.]],\n",
       "\n",
       "        [[182., 184., 178.],\n",
       "         [183., 185., 181.],\n",
       "         [185., 187., 183.],\n",
       "         ...,\n",
       "         [193., 194., 193.],\n",
       "         [193., 194., 194.],\n",
       "         [194., 194., 194.]],\n",
       "\n",
       "        ...,\n",
       "\n",
       "        [[183., 188., 183.],\n",
       "         [186., 188., 184.],\n",
       "         [189., 190., 188.],\n",
       "         ...,\n",
       "         [188., 190., 186.],\n",
       "         [187., 190., 185.],\n",
       "         [186., 189., 184.]],\n",
       "\n",
       "        [[182., 187., 184.],\n",
       "         [184., 187., 184.],\n",
       "         [187., 188., 187.],\n",
       "         ...,\n",
       "         [187., 189., 188.],\n",
       "         [187., 188., 186.],\n",
       "         [186., 188., 186.]],\n",
       "\n",
       "        [[183., 187., 186.],\n",
       "         [186., 187., 186.],\n",
       "         [189., 189., 189.],\n",
       "         ...,\n",
       "         [187., 188., 190.],\n",
       "         [186., 187., 188.],\n",
       "         [186., 188., 187.]]]], dtype=float32)"
      ]
     },
     "execution_count": 4,
     "metadata": {},
     "output_type": "execute_result"
    }
   ],
   "source": [
    "train_X"
   ]
  },
  {
   "cell_type": "code",
   "execution_count": 5,
   "metadata": {},
   "outputs": [
    {
     "data": {
      "image/png": "[encoded data removed]",
      "text/plain": [
       "<Figure size 432x288 with 50 Axes>"
      ]
     },
     "metadata": {
      "needs_background": "light"
     },
     "output_type": "display_data"
    }
   ],
   "source": [
    "samples_per_class = 5  # Number of samples per class to visualize\n",
    "plot_index = 1\n",
    "for example_index in range(samples_per_class):\n",
    "    for class_index in range(10):\n",
    "        plt.subplot(5, 10, plot_index)\n",
    "        image = train_X[train_y == class_index][example_index]\n",
    "        plt.imshow(image.astype(np.uint8))\n",
    "        plt.axis('off')\n",
    "        plot_index += 1"
   ]
  },
  {
   "cell_type": "markdown",
   "metadata": {},
   "source": [
    "# Сначала реализуем KNN для бинарной классификации\n",
    "\n",
    "В качестве задачи бинарной классификации мы натренируем модель, которая будет отличать цифру 0 от цифры 9."
   ]
  },
  {
   "cell_type": "code",
   "execution_count": 7,
   "metadata": {},
   "outputs": [],
   "source": [
    "# First, let's prepare the labels and the source data\n",
    "\n",
    "# Only select 0s and 9s\n",
    "binary_train_mask = (train_y == 0) | (train_y == 9)\n",
    "binary_train_X = train_X[binary_train_mask]\n",
    "binary_train_y = train_y[binary_train_mask] == 0\n",
    "\n",
    "binary_test_mask = (test_y == 0) | (test_y == 9)\n",
    "binary_test_X = test_X[binary_test_mask]\n",
    "binary_test_y = test_y[binary_test_mask] == 0\n",
    "\n",
    "# Reshape to 1-dimensional array [num_samples, 32*32*3]\n",
    "binary_train_X = binary_train_X.reshape(binary_train_X.shape[0], -1)\n",
    "binary_test_X = binary_test_X.reshape(binary_test_X.shape[0], -1)"
   ]
  },
  {
   "cell_type": "code",
   "execution_count": 8,
   "metadata": {},
   "outputs": [],
   "source": [
    "# Create the classifier and call fit to train the model\n",
    "# KNN just remembers all the data\n",
    "knn_classifier = KNN(k = 1)\n",
    "knn_classifier.fit(binary_train_X, binary_train_y)"
   ]
  },
  {
   "cell_type": "code",
   "execution_count": 9,
   "metadata": {},
   "outputs": [
    {
     "data": {
      "text/plain": [
       "(130, 3072)"
      ]
     },
     "execution_count": 9,
     "metadata": {},
     "output_type": "execute_result"
    }
   ],
   "source": [
    "binary_train_X.shape"
   ]
  },
  {
   "attachments": {
    "image.png": {
     "image/png": "[encoded data removed]"
    }
   },
   "cell_type": "markdown",
   "metadata": {},
   "source": [
    "## Пришло время написать код! \n",
    "\n",
    "Последовательно реализуйте функции `compute_distances_two_loops`, `compute_distances_one_loop` и `compute_distances_no_loops`\n",
    "в файле `knn.py`.\n",
    "\n",
    "Эти функции строят массив расстояний между всеми векторами в тестовом наборе и в тренировочном наборе.  \n",
    "В результате они должны построить массив размера `(num_test, num_train)`, где координата `[i][j]` соотвествует расстоянию между i-м вектором в test (`test[i]`) и j-м вектором в train (`train[j]`).\n",
    "\n",
    "**Обратите внимание** Для простоты реализации мы будем использовать в качестве расстояния меру L1 (ее еще называют [Manhattan distance](https://ru.wikipedia.org/wiki/%D0%A0%D0%B0%D1%81%D1%81%D1%82%D0%BE%D1%8F%D0%BD%D0%B8%D0%B5_%D0%B3%D0%BE%D1%80%D0%BE%D0%B4%D1%81%D0%BA%D0%B8%D1%85_%D0%BA%D0%B2%D0%B0%D1%80%D1%82%D0%B0%D0%BB%D0%BE%D0%B2)).\n",
    "\n",
    "![image.png](attachment:image.png)"
   ]
  },
  {
   "cell_type": "code",
   "execution_count": 10,
   "metadata": {},
   "outputs": [],
   "source": [
    "# TODO: implement compute_distances_two_loops in knn.py\n",
    "dists = knn_classifier.compute_distances_two_loops(binary_test_X)\n",
    "assert np.isclose(dists[0, 10], np.sum(np.abs(binary_test_X[0] - binary_train_X[10])))"
   ]
  },
  {
   "cell_type": "code",
   "execution_count": 11,
   "metadata": {},
   "outputs": [
    {
     "data": {
      "text/plain": [
       "array([[113715., 116537., 113437., ..., 150272., 131010.,  91981.],\n",
       "       [177678.,  95538.,  88700., ..., 138591.,  83551., 157274.],\n",
       "       [327306., 161492., 162030., ..., 122319., 138515., 310976.],\n",
       "       ...,\n",
       "       [ 91245., 180573., 189255., ..., 210572., 222866.,  73959.],\n",
       "       [227459., 117317., 103811., ..., 145460.,  84404., 211579.],\n",
       "       [335968., 167302., 151664., ..., 137321., 115017., 318726.]],\n",
       "      dtype=float32)"
      ]
     },
     "execution_count": 11,
     "metadata": {},
     "output_type": "execute_result"
    }
   ],
   "source": [
    "dists"
   ]
  },
  {
   "cell_type": "code",
   "execution_count": 12,
   "metadata": {},
   "outputs": [
    {
     "ename": "AxisError",
     "evalue": "axis 2 is out of bounds for array of dimension 2",
     "output_type": "error",
     "traceback": [
      "\u001b[0;31m---------------------------------------------------------------------------\u001b[0m",
      "\u001b[0;31mAxisError\u001b[0m                                 Traceback (most recent call last)",
      "\u001b[0;32m<ipython-input-12-23199f97328d>\u001b[0m in \u001b[0;36m<module>\u001b[0;34m\u001b[0m\n\u001b[1;32m      1\u001b[0m \u001b[0;31m# TODO: implement compute_distances_one_loop in knn.py\u001b[0m\u001b[0;34m\u001b[0m\u001b[0;34m\u001b[0m\u001b[0;34m\u001b[0m\u001b[0m\n\u001b[0;32m----> 2\u001b[0;31m \u001b[0mdists\u001b[0m \u001b[0;34m=\u001b[0m \u001b[0mknn_classifier\u001b[0m\u001b[0;34m.\u001b[0m\u001b[0mcompute_distances_one_loop\u001b[0m\u001b[0;34m(\u001b[0m\u001b[0mbinary_test_X\u001b[0m\u001b[0;34m)\u001b[0m\u001b[0;34m\u001b[0m\u001b[0;34m\u001b[0m\u001b[0m\n\u001b[0m\u001b[1;32m      3\u001b[0m \u001b[0;32massert\u001b[0m \u001b[0mnp\u001b[0m\u001b[0;34m.\u001b[0m\u001b[0misclose\u001b[0m\u001b[0;34m(\u001b[0m\u001b[0mdists\u001b[0m\u001b[0;34m[\u001b[0m\u001b[0;36m0\u001b[0m\u001b[0;34m,\u001b[0m \u001b[0;36m10\u001b[0m\u001b[0;34m]\u001b[0m\u001b[0;34m,\u001b[0m \u001b[0mnp\u001b[0m\u001b[0;34m.\u001b[0m\u001b[0msum\u001b[0m\u001b[0;34m(\u001b[0m\u001b[0mnp\u001b[0m\u001b[0;34m.\u001b[0m\u001b[0mabs\u001b[0m\u001b[0;34m(\u001b[0m\u001b[0mbinary_test_X\u001b[0m\u001b[0;34m[\u001b[0m\u001b[0;36m0\u001b[0m\u001b[0;34m]\u001b[0m \u001b[0;34m-\u001b[0m \u001b[0mbinary_train_X\u001b[0m\u001b[0;34m[\u001b[0m\u001b[0;36m10\u001b[0m\u001b[0;34m]\u001b[0m\u001b[0;34m)\u001b[0m\u001b[0;34m)\u001b[0m\u001b[0;34m)\u001b[0m\u001b[0;34m\u001b[0m\u001b[0;34m\u001b[0m\u001b[0m\n",
      "\u001b[0;32m~/PythonProjects/dl_nsu/assignment1/knn.py\u001b[0m in \u001b[0;36mcompute_distances_one_loop\u001b[0;34m(self, X)\u001b[0m\n\u001b[1;32m     80\u001b[0m         \u001b[0mdists\u001b[0m \u001b[0;34m=\u001b[0m \u001b[0;34m[\u001b[0m\u001b[0;34m]\u001b[0m\u001b[0;34m\u001b[0m\u001b[0;34m\u001b[0m\u001b[0m\n\u001b[1;32m     81\u001b[0m         \u001b[0;32mfor\u001b[0m \u001b[0mi_test\u001b[0m \u001b[0;32min\u001b[0m \u001b[0mrange\u001b[0m\u001b[0;34m(\u001b[0m\u001b[0mnum_test\u001b[0m\u001b[0;34m)\u001b[0m\u001b[0;34m:\u001b[0m\u001b[0;34m\u001b[0m\u001b[0;34m\u001b[0m\u001b[0m\n\u001b[0;32m---> 82\u001b[0;31m             \u001b[0mtmp\u001b[0m \u001b[0;34m=\u001b[0m \u001b[0mnp\u001b[0m\u001b[0;34m.\u001b[0m\u001b[0msum\u001b[0m\u001b[0;34m(\u001b[0m\u001b[0mnp\u001b[0m\u001b[0;34m.\u001b[0m\u001b[0mabs\u001b[0m\u001b[0;34m(\u001b[0m\u001b[0mX\u001b[0m\u001b[0;34m[\u001b[0m\u001b[0mi_test\u001b[0m\u001b[0;34m,\u001b[0m \u001b[0;34m:\u001b[0m\u001b[0;34m]\u001b[0m \u001b[0;34m-\u001b[0m \u001b[0mself\u001b[0m\u001b[0;34m.\u001b[0m\u001b[0mtrain_X\u001b[0m\u001b[0;34m)\u001b[0m\u001b[0;34m,\u001b[0m \u001b[0maxis\u001b[0m\u001b[0;34m=\u001b[0m\u001b[0;36m2\u001b[0m\u001b[0;34m)\u001b[0m\u001b[0;34m\u001b[0m\u001b[0;34m\u001b[0m\u001b[0m\n\u001b[0m\u001b[1;32m     83\u001b[0m             \u001b[0mdists\u001b[0m\u001b[0;34m.\u001b[0m\u001b[0mappend\u001b[0m\u001b[0;34m(\u001b[0m\u001b[0mtmp\u001b[0m\u001b[0;34m)\u001b[0m\u001b[0;34m\u001b[0m\u001b[0;34m\u001b[0m\u001b[0m\n\u001b[1;32m     84\u001b[0m         \u001b[0;32mreturn\u001b[0m \u001b[0mnp\u001b[0m\u001b[0;34m.\u001b[0m\u001b[0marray\u001b[0m\u001b[0;34m(\u001b[0m\u001b[0mdists\u001b[0m\u001b[0;34m)\u001b[0m\u001b[0;34m\u001b[0m\u001b[0;34m\u001b[0m\u001b[0m\n",
      "\u001b[0;32m~/anaconda3/lib/python3.6/site-packages/numpy/core/fromnumeric.py\u001b[0m in \u001b[0;36msum\u001b[0;34m(a, axis, dtype, out, keepdims, initial)\u001b[0m\n\u001b[1;32m   2074\u001b[0m \u001b[0;34m\u001b[0m\u001b[0m\n\u001b[1;32m   2075\u001b[0m     return _wrapreduction(a, np.add, 'sum', axis, dtype, out, keepdims=keepdims,\n\u001b[0;32m-> 2076\u001b[0;31m                           initial=initial)\n\u001b[0m\u001b[1;32m   2077\u001b[0m \u001b[0;34m\u001b[0m\u001b[0m\n\u001b[1;32m   2078\u001b[0m \u001b[0;34m\u001b[0m\u001b[0m\n",
      "\u001b[0;32m~/anaconda3/lib/python3.6/site-packages/numpy/core/fromnumeric.py\u001b[0m in \u001b[0;36m_wrapreduction\u001b[0;34m(obj, ufunc, method, axis, dtype, out, **kwargs)\u001b[0m\n\u001b[1;32m     84\u001b[0m                 \u001b[0;32mreturn\u001b[0m \u001b[0mreduction\u001b[0m\u001b[0;34m(\u001b[0m\u001b[0maxis\u001b[0m\u001b[0;34m=\u001b[0m\u001b[0maxis\u001b[0m\u001b[0;34m,\u001b[0m \u001b[0mout\u001b[0m\u001b[0;34m=\u001b[0m\u001b[0mout\u001b[0m\u001b[0;34m,\u001b[0m \u001b[0;34m**\u001b[0m\u001b[0mpasskwargs\u001b[0m\u001b[0;34m)\u001b[0m\u001b[0;34m\u001b[0m\u001b[0;34m\u001b[0m\u001b[0m\n\u001b[1;32m     85\u001b[0m \u001b[0;34m\u001b[0m\u001b[0m\n\u001b[0;32m---> 86\u001b[0;31m     \u001b[0;32mreturn\u001b[0m \u001b[0mufunc\u001b[0m\u001b[0;34m.\u001b[0m\u001b[0mreduce\u001b[0m\u001b[0;34m(\u001b[0m\u001b[0mobj\u001b[0m\u001b[0;34m,\u001b[0m \u001b[0maxis\u001b[0m\u001b[0;34m,\u001b[0m \u001b[0mdtype\u001b[0m\u001b[0;34m,\u001b[0m \u001b[0mout\u001b[0m\u001b[0;34m,\u001b[0m \u001b[0;34m**\u001b[0m\u001b[0mpasskwargs\u001b[0m\u001b[0;34m)\u001b[0m\u001b[0;34m\u001b[0m\u001b[0;34m\u001b[0m\u001b[0m\n\u001b[0m\u001b[1;32m     87\u001b[0m \u001b[0;34m\u001b[0m\u001b[0m\n\u001b[1;32m     88\u001b[0m \u001b[0;34m\u001b[0m\u001b[0m\n",
      "\u001b[0;31mAxisError\u001b[0m: axis 2 is out of bounds for array of dimension 2"
     ]
    }
   ],
   "source": [
    "# TODO: implement compute_distances_one_loop in knn.py\n",
    "dists = knn_classifier.compute_distances_one_loop(binary_test_X)\n",
    "assert np.isclose(dists[0, 10], np.sum(np.abs(binary_test_X[0] - binary_train_X[10])))\n"
   ]
  },
  {
   "cell_type": "code",
   "execution_count": 16,
   "metadata": {},
   "outputs": [],
   "source": [
    "# TODO: implement compute_distances_no_loops in knn.py\n",
    "dists = knn_classifier.compute_distances_no_loops(binary_test_X)\n",
    "assert np.isclose(dists[0, 10], np.sum(np.abs(binary_test_X[0] - binary_train_X[10])))\n"
   ]
  },
  {
   "cell_type": "code",
   "execution_count": 12,
   "metadata": {},
   "outputs": [
    {
     "name": "stdout",
     "output_type": "stream",
     "text": [
      "18.9 ms ± 87.5 µs per loop (mean ± std. dev. of 7 runs, 100 loops each)\n",
      "7.93 ms ± 1.24 ms per loop (mean ± std. dev. of 7 runs, 100 loops each)\n",
      "9.07 ms ± 688 µs per loop (mean ± std. dev. of 7 runs, 100 loops each)\n"
     ]
    }
   ],
   "source": [
    "# Lets look at the performance difference\n",
    "%timeit knn_classifier.compute_distances_two_loops(binary_test_X)\n",
    "%timeit knn_classifier.compute_distances_one_loop(binary_test_X)\n",
    "%timeit knn_classifier.compute_distances_no_loops(binary_test_X)"
   ]
  },
  {
   "cell_type": "code",
   "execution_count": 17,
   "metadata": {
    "scrolled": true
   },
   "outputs": [
    {
     "name": "stdout",
     "output_type": "stream",
     "text": [
      "predict_labels_binary\n"
     ]
    }
   ],
   "source": [
    "# TODO: implement predict_labels_binary in knn.py\n",
    "prediction = knn_classifier.predict(binary_test_X)"
   ]
  },
  {
   "cell_type": "code",
   "execution_count": 14,
   "metadata": {},
   "outputs": [
    {
     "name": "stdout",
     "output_type": "stream",
     "text": [
      "KNN with k = 1\n",
      "Accuracy: 0.550, Precision: 0.636, Recall: 0.583, F1: 0.609\n"
     ]
    }
   ],
   "source": [
    "# TODO: implement binary_classification_metrics in metrics.py\n",
    "precision, recall, f1, accuracy = binary_classification_metrics(prediction, binary_test_y)\n",
    "print(\"KNN with k = %s\" % knn_classifier.k)\n",
    "print(\"Accuracy: %4.3f, Precision: %4.3f, Recall: %4.3f, F1: %4.3f\" % (accuracy, precision, recall, f1)) "
   ]
  },
  {
   "cell_type": "code",
   "execution_count": 40,
   "metadata": {},
   "outputs": [
    {
     "name": "stdout",
     "output_type": "stream",
     "text": [
      "predict_labels_binary\n",
      "KNN with k = 3\n",
      "Accuracy: 0.58, Precision: 0.67, Recall: 0.33, F1: 0.44\n"
     ]
    }
   ],
   "source": [
    "# Let's put everything together and run KNN with k=3 and see how we do\n",
    "knn_classifier_3 = KNN(k=3)\n",
    "knn_classifier_3.fit(binary_train_X, binary_train_y)\n",
    "prediction = knn_classifier_3.predict(binary_test_X)\n",
    "\n",
    "precision, recall, f1, accuracy = binary_classification_metrics(prediction, binary_test_y)\n",
    "print(\"KNN with k = %s\" % knn_classifier_3.k)\n",
    "print(\"Accuracy: %4.2f, Precision: %4.2f, Recall: %4.2f, F1: %4.2f\" % (accuracy, precision, recall, f1)) "
   ]
  },
  {
   "cell_type": "markdown",
   "metadata": {},
   "source": [
    "# Кросс-валидация (cross-validation)\n",
    "\n",
    "Попробуем найти лучшее значение k! \n",
    "\n",
    "Для этого мы воспользуемся k-fold cross-validation (https://en.wikipedia.org/wiki/Cross-validation_(statistics)#k-fold_cross-validation). Мы разделим тренировочные данные на 5 фолдов (folds), и по очереди будем использовать каждый из них в качестве проверочных данных (validation data), а остальные -- в качестве тренировочных (training data).\n",
    "\n",
    "В качестве финальной оценки эффективности k мы усредним значения F1 score на всех фолдах.\n",
    "После этого мы просто выберем значение k с лучшим значением метрики.\n",
    "\n",
    "*Бонус*: есть ли другие варианты агрегировать F1 score по всем фолдам? Напишите плюсы и минусы в клетке ниже."
   ]
  },
  {
   "cell_type": "code",
   "execution_count": 42,
   "metadata": {},
   "outputs": [],
   "source": [
    "from sklearn.model_selection import StratifiedKFold"
   ]
  },
  {
   "cell_type": "code",
   "execution_count": 71,
   "metadata": {},
   "outputs": [
    {
     "name": "stdout",
     "output_type": "stream",
     "text": [
      "predict_labels_binary\n",
      "predict_labels_binary\n",
      "predict_labels_binary\n",
      "predict_labels_binary\n",
      "predict_labels_binary\n",
      "predict_labels_binary\n",
      "predict_labels_binary\n",
      "predict_labels_binary\n",
      "predict_labels_binary\n",
      "predict_labels_binary\n",
      "predict_labels_binary\n",
      "predict_labels_binary\n",
      "predict_labels_binary\n",
      "predict_labels_binary\n",
      "predict_labels_binary\n",
      "predict_labels_binary\n",
      "predict_labels_binary\n",
      "predict_labels_binary\n",
      "predict_labels_binary\n",
      "predict_labels_binary\n",
      "predict_labels_binary\n",
      "predict_labels_binary\n",
      "predict_labels_binary\n",
      "predict_labels_binary\n",
      "predict_labels_binary\n",
      "predict_labels_binary\n",
      "predict_labels_binary\n",
      "predict_labels_binary\n",
      "predict_labels_binary\n",
      "predict_labels_binary\n",
      "predict_labels_binary\n",
      "predict_labels_binary\n",
      "predict_labels_binary\n",
      "predict_labels_binary\n",
      "predict_labels_binary\n",
      "predict_labels_binary\n",
      "predict_labels_binary\n",
      "predict_labels_binary\n",
      "predict_labels_binary\n",
      "predict_labels_binary\n",
      "predict_labels_binary\n",
      "predict_labels_binary\n",
      "predict_labels_binary\n",
      "predict_labels_binary\n",
      "predict_labels_binary\n",
      "predict_labels_binary\n",
      "predict_labels_binary\n",
      "predict_labels_binary\n",
      "predict_labels_binary\n",
      "predict_labels_binary\n",
      "predict_labels_binary\n",
      "predict_labels_binary\n",
      "predict_labels_binary\n",
      "predict_labels_binary\n",
      "predict_labels_binary\n",
      "predict_labels_binary\n",
      "predict_labels_binary\n",
      "predict_labels_binary\n",
      "predict_labels_binary\n",
      "predict_labels_binary\n",
      "predict_labels_binary\n",
      "predict_labels_binary\n",
      "predict_labels_binary\n",
      "predict_labels_binary\n",
      "predict_labels_binary\n",
      "predict_labels_binary\n",
      "predict_labels_binary\n",
      "predict_labels_binary\n",
      "predict_labels_binary\n",
      "predict_labels_binary\n",
      "k = 1, f1 = 0.495649 0.119704681413143\n",
      "k = 2, f1 = 0.554425 0.13900986959085618\n",
      "k = 3, f1 = 0.419733 0.12084023905269012\n",
      "k = 4, f1 = 0.478979 0.09509524565285295\n",
      "k = 5, f1 = 0.299981 0.14231597714113822\n",
      "k = 6, f1 = 0.367755 0.12995275387339472\n",
      "k = 7, f1 = 0.373560 0.14162012705663424\n",
      "k = 8, f1 = 0.377131 0.10288658474074598\n",
      "k = 9, f1 = 0.345101 0.17742737501984535\n",
      "k = 10, f1 = 0.419154 0.0982164051423264\n",
      "k = 15, f1 = 0.345516 0.14296738918716217\n",
      "k = 20, f1 = 0.368182 0.13494811674860918\n",
      "k = 25, f1 = nan nan\n",
      "k = 50, f1 = nan nan\n"
     ]
    },
    {
     "name": "stderr",
     "output_type": "stream",
     "text": [
      "/home/whale/PythonProjects/dl_nsu/assignment1/metrics.py:28: RuntimeWarning: invalid value encountered in double_scalars\n",
      "  f1 = 2 * precision*recall / (precision+recall)\n",
      "/home/whale/PythonProjects/dl_nsu/assignment1/metrics.py:28: RuntimeWarning: invalid value encountered in double_scalars\n",
      "  f1 = 2 * precision*recall / (precision+recall)\n"
     ]
    }
   ],
   "source": [
    "# Find the best k using cross-validation based on F1 score\n",
    "num_folds = 5\n",
    "train_folds_X = []\n",
    "train_folds_y = []\n",
    "\n",
    "# TODO: split the training data in 5 folds and store them in train_folds_X/train_folds_y\n",
    "cv = StratifiedKFold(num_folds)\n",
    "\n",
    "\n",
    "\n",
    "k_choices = [1, 2, 3, 4, 5, 6, 7, 8, 9, 10, 15, 20, 25, 50]\n",
    "k_to_f1 = {}  # dict mapping k values to mean F1 scores (int -> float)\n",
    "\n",
    "for k in k_choices:\n",
    "    # TODO: perform cross-validation\n",
    "    # Go through every fold and use it for testing and all other folds for training\n",
    "    # Perform training and produce F1 score metric on the validation dataset\n",
    "    # Average F1 from all the folds and write it into k_to_f1\n",
    "    f1 = []\n",
    "    for train_indexes, test_indexes in cv.split(binary_train_X, binary_train_y):\n",
    "        train_folds_X = binary_train_X[train_indexes]\n",
    "        train_folds_y = binary_train_y[train_indexes]\n",
    "        test_folds_X = binary_train_X[test_indexes]\n",
    "        test_folds_y = binary_train_y[test_indexes]\n",
    "        \n",
    "        knn_classifier = KNN(k)\n",
    "        knn_classifier.fit(train_folds_X, train_folds_y)\n",
    "        prediction = knn_classifier.predict(test_folds_X)\n",
    "        f1.append(binary_classification_metrics(prediction, test_folds_y))\n",
    "    k_to_f1[k] = f1\n",
    "    f1 = []\n",
    "\n",
    "for k in sorted(k_to_f1):\n",
    "    print('k = %d, f1 = %f' % (k, np.mean(k_to_f1[k])), np.std(k_to_f1[k]))"
   ]
  },
  {
   "cell_type": "code",
   "execution_count": 46,
   "metadata": {},
   "outputs": [
    {
     "data": {
      "text/plain": [
       "(130, 3072)"
      ]
     },
     "execution_count": 46,
     "metadata": {},
     "output_type": "execute_result"
    }
   ],
   "source": [
    "binary_train_X.shape"
   ]
  },
  {
   "cell_type": "code",
   "execution_count": 70,
   "metadata": {},
   "outputs": [
    {
     "name": "stdout",
     "output_type": "stream",
     "text": [
      "predict_labels_binary\n",
      "predict_labels_binary\n",
      "predict_labels_binary\n",
      "predict_labels_binary\n",
      "predict_labels_binary\n",
      "predict_labels_binary\n",
      "predict_labels_binary\n",
      "predict_labels_binary\n",
      "predict_labels_binary\n",
      "predict_labels_binary\n",
      "predict_labels_binary\n",
      "predict_labels_binary\n",
      "predict_labels_binary\n",
      "predict_labels_binary\n",
      "predict_labels_binary\n",
      "predict_labels_binary\n",
      "predict_labels_binary\n",
      "predict_labels_binary\n",
      "predict_labels_binary\n",
      "predict_labels_binary\n",
      "predict_labels_binary\n",
      "predict_labels_binary\n",
      "predict_labels_binary\n",
      "predict_labels_binary\n",
      "predict_labels_binary\n",
      "predict_labels_binary\n",
      "predict_labels_binary\n",
      "predict_labels_binary\n",
      "predict_labels_binary\n",
      "predict_labels_binary\n",
      "predict_labels_binary\n",
      "predict_labels_binary\n",
      "predict_labels_binary\n",
      "predict_labels_binary\n",
      "predict_labels_binary\n",
      "predict_labels_binary\n",
      "predict_labels_binary\n",
      "predict_labels_binary\n",
      "predict_labels_binary\n",
      "predict_labels_binary\n",
      "predict_labels_binary\n",
      "predict_labels_binary\n",
      "predict_labels_binary\n",
      "predict_labels_binary\n",
      "predict_labels_binary\n",
      "predict_labels_binary\n",
      "predict_labels_binary\n",
      "predict_labels_binary\n",
      "predict_labels_binary\n",
      "predict_labels_binary\n",
      "predict_labels_binary\n",
      "predict_labels_binary\n",
      "predict_labels_binary\n",
      "predict_labels_binary\n",
      "predict_labels_binary\n",
      "predict_labels_binary\n",
      "predict_labels_binary\n",
      "predict_labels_binary\n",
      "predict_labels_binary\n",
      "predict_labels_binary\n",
      "predict_labels_binary\n",
      "predict_labels_binary\n",
      "predict_labels_binary\n",
      "predict_labels_binary\n",
      "predict_labels_binary\n",
      "predict_labels_binary\n",
      "predict_labels_binary\n",
      "predict_labels_binary\n",
      "predict_labels_binary\n",
      "predict_labels_binary\n",
      "k = 1, f1 = 0.486902 0.1429733792187861\n",
      "k = 2, f1 = 0.557030 0.10798260433837537\n",
      "k = 3, f1 = 0.374099 0.1464072537766451\n",
      "k = 4, f1 = 0.413132 0.09113569013170644\n",
      "k = 5, f1 = nan nan\n",
      "k = 6, f1 = 0.290666 0.12883624332209934\n",
      "k = 7, f1 = 0.290404 0.13272054682791448\n",
      "k = 8, f1 = 0.330113 0.141679341567828\n",
      "k = 9, f1 = 0.336323 0.1774276386757933\n",
      "k = 10, f1 = 0.383575 0.1361700045693758\n",
      "k = 15, f1 = 0.316682 0.15945998377299592\n",
      "k = 20, f1 = 0.338971 0.1261392820407313\n",
      "k = 25, f1 = nan nan\n",
      "k = 50, f1 = nan nan\n"
     ]
    },
    {
     "name": "stderr",
     "output_type": "stream",
     "text": [
      "/home/whale/PythonProjects/dl_nsu/assignment1/metrics.py:24: RuntimeWarning: invalid value encountered in long_scalars\n",
      "  precision = tp / (tp + fp)\n"
     ]
    }
   ],
   "source": [
    "# Find the best k using cross-validation based on F1 score\n",
    "num_folds = 5\n",
    "train_folds_X = []\n",
    "train_folds_y = []\n",
    "\n",
    "# TODO: split the training data in 5 folds and store them in train_folds_X/train_folds_y\n",
    "step = int(len(binary_train_X)/num_folds)\n",
    "for i in range(num_folds): \n",
    "    train_folds_X.append(binary_train_X[step * i:step * (i + 1)])\n",
    "    train_folds_y.append(binary_train_y[step * i:step * (i + 1)])\n",
    "    \n",
    "\n",
    "\n",
    "k_choices = [1, 2, 3, 4, 5, 6, 7, 8, 9, 10, 15, 20, 25, 50]\n",
    "k_to_f1 = {}  # dict mapping k values to mean F1 scores (int -> float)\n",
    "\n",
    "for k in k_choices:\n",
    "    # TODO: perform cross-validation\n",
    "    # Go through every fold and use it for testing and all other folds for training\n",
    "    # Perform training and produce F1 score metric on the validation dataset\n",
    "    # Average F1 from all the folds and write it into k_to_f1\n",
    "    f1 = []\n",
    "    for fold_num in range(len(train_folds_X)):\n",
    "        test_fold_x = train_folds_X.pop(0)\n",
    "        test_fold_y = train_folds_y.pop(0)\n",
    "        knn_classifier = KNN(k)\n",
    "        knn_classifier.fit(np.concatenate(train_folds_X), np.concatenate(train_folds_y))\n",
    "        train_folds_X.append(test_fold_x)\n",
    "        train_folds_y.append(test_fold_y)\n",
    "        prediction = knn_classifier.predict(test_fold_x)\n",
    "        f1.append(binary_classification_metrics(prediction, test_fold_y))\n",
    "    k_to_f1[k] = f1\n",
    "    f1 = []\n",
    "\n",
    "for k in sorted(k_to_f1):\n",
    "    print('k = %d, f1 = %f' % (k, np.mean(k_to_f1[k])), np.std(k_to_f1[k]))\n",
    "#     print(f'k = {k}, f1 = {k_to_f1[k]}')"
   ]
  },
  {
   "cell_type": "markdown",
   "metadata": {},
   "source": [
    "### Проверим, как хорошо работает лучшее значение k на тестовых данных (test data)"
   ]
  },
  {
   "cell_type": "code",
   "execution_count": 39,
   "metadata": {},
   "outputs": [
    {
     "name": "stdout",
     "output_type": "stream",
     "text": [
      "predict_labels_binary\n",
      "Best KNN with k = 8\n",
      "Accuracy: 0.50, Precision: 0.38, Recall: 0.60, F1: 0.46\n"
     ]
    }
   ],
   "source": [
    "# TODO Set the best k to the best value found by cross-validation\n",
    "best_k = 8\n",
    "\n",
    "best_knn_classifier = KNN(k=best_k)\n",
    "best_knn_classifier.fit(binary_train_X, binary_train_y)\n",
    "prediction = best_knn_classifier.predict(binary_test_X)\n",
    "\n",
    "precision, recall, f1, accuracy = binary_classification_metrics(prediction, binary_test_y)\n",
    "print(\"Best KNN with k = %s\" % best_k)\n",
    "print(\"Accuracy: %4.2f, Precision: %4.2f, Recall: %4.2f, F1: %4.2f\" % (accuracy, precision, recall, f1)) "
   ]
  },
  {
   "cell_type": "code",
   "execution_count": 40,
   "metadata": {},
   "outputs": [
    {
     "name": "stdout",
     "output_type": "stream",
     "text": [
      "predict_labels_binary\n",
      "Best KNN with k = 2\n",
      "Accuracy: 0.36, Precision: 0.30, Recall: 0.60, F1: 0.40\n"
     ]
    }
   ],
   "source": [
    "# TODO Set the best k to the best value found by cross-validation\n",
    "best_k = 2\n",
    "\n",
    "best_knn_classifier = KNN(k=best_k)\n",
    "best_knn_classifier.fit(binary_train_X, binary_train_y)\n",
    "prediction = best_knn_classifier.predict(binary_test_X)\n",
    "\n",
    "precision, recall, f1, accuracy = binary_classification_metrics(prediction, binary_test_y)\n",
    "print(\"Best KNN with k = %s\" % best_k)\n",
    "print(\"Accuracy: %4.2f, Precision: %4.2f, Recall: %4.2f, F1: %4.2f\" % (accuracy, precision, recall, f1)) "
   ]
  },
  {
   "cell_type": "markdown",
   "metadata": {},
   "source": [
    "# Многоклассовая классификация (multi-class classification)\n",
    "\n",
    "Переходим к следующему этапу - классификации на каждую цифру."
   ]
  },
  {
   "cell_type": "code",
   "execution_count": 20,
   "metadata": {},
   "outputs": [],
   "source": [
    "# Now let's use all 10 classes\n",
    "train_X = train_X.reshape(train_X.shape[0], -1)\n",
    "test_X = test_X.reshape(test_X.shape[0], -1)\n",
    "\n",
    "knn_classifier = KNN(k=1)\n",
    "knn_classifier.fit(train_X, train_y)"
   ]
  },
  {
   "cell_type": "code",
   "execution_count": 21,
   "metadata": {},
   "outputs": [],
   "source": [
    "# TODO: Implement predict_labels_multiclass\n",
    "predict = knn_classifier.predict(test_X)"
   ]
  },
  {
   "cell_type": "code",
   "execution_count": 22,
   "metadata": {},
   "outputs": [
    {
     "name": "stdout",
     "output_type": "stream",
     "text": [
      "Accuracy: 0.00\n"
     ]
    }
   ],
   "source": [
    "# TODO: Implement multiclass_accuracy\n",
    "accuracy = multiclass_accuracy(predict, test_y)\n",
    "print(\"Accuracy: %4.2f\" % accuracy)"
   ]
  },
  {
   "cell_type": "markdown",
   "metadata": {},
   "source": [
    "Снова кросс-валидация. Теперь нашей основной метрикой стала точность (accuracy), и ее мы тоже будем усреднять по всем фолдам."
   ]
  },
  {
   "cell_type": "code",
   "execution_count": 23,
   "metadata": {},
   "outputs": [],
   "source": [
    "# Find the best k using cross-validation based on accuracy\n",
    "num_folds = 5\n",
    "train_folds_X = []\n",
    "train_folds_y = []\n",
    "\n",
    "# TODO: split the training data in 5 folds and store them in train_folds_X/train_folds_y\n",
    "\n",
    "k_choices = [1, 2, 3, 5, 8, 10, 15, 20, 25, 50]\n",
    "k_to_accuracy = {}\n",
    "\n",
    "for k in k_choices:\n",
    "    # TODO: perform cross-validation\n",
    "    # Go through every fold and use it for testing and all other folds for validation\n",
    "    # Perform training and produce accuracy metric on the validation dataset\n",
    "    # Average accuracy from all the folds and write it into k_to_accuracy\n",
    "    pass\n",
    "\n",
    "for k in sorted(k_to_accuracy):\n",
    "    print('k = %d, accuracy = %f' % (k, k_to_accuracy[k]))"
   ]
  },
  {
   "cell_type": "markdown",
   "metadata": {},
   "source": [
    "### Финальный тест - классификация на 10 классов на тестовой выборке (test data)\n",
    "\n",
    "Если все реализовано правильно, вы должны увидеть точность не менее **0.2**."
   ]
  },
  {
   "cell_type": "code",
   "execution_count": null,
   "metadata": {},
   "outputs": [],
   "source": [
    "# TODO Set the best k as a best from computed\n",
    "best_k = 1\n",
    "\n",
    "best_knn_classifier = KNN(k=best_k)\n",
    "best_knn_classifier.fit(train_X, train_y)\n",
    "prediction = best_knn_classifier.predict(test_X)\n",
    "\n",
    "# Accuracy should be around 20%!\n",
    "accuracy = multiclass_accuracy(prediction, test_y)\n",
    "print(\"Accuracy: %4.2f\" % accuracy)"
   ]
  }
 ],
 "metadata": {
  "kernelspec": {
   "display_name": "Python 3",
   "language": "python",
   "name": "python3"
  },
  "language_info": {
   "codemirror_mode": {
    "name": "ipython",
    "version": 3
   },
   "file_extension": ".py",
   "mimetype": "text/x-python",
   "name": "python",
   "nbconvert_exporter": "python",
   "pygments_lexer": "ipython3",
   "version": "3.6.8"
  }
 },
 "nbformat": 4,
 "nbformat_minor": 2
}
