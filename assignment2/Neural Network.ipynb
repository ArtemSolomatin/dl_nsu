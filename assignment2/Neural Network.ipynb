{
 "cells": [
  {
   "cell_type": "markdown",
   "metadata": {},
   "source": [
    "# Задание 2.1 - Нейронные сети\n",
    "\n",
    "В этом задании вы реализуете и натренируете настоящую нейроную сеть своими руками!\n",
    "\n",
    "В некотором смысле это будет расширением прошлого задания - нам нужно просто составить несколько линейных классификаторов вместе!\n",
    "\n",
    "<img src=\"https://i.redd.it/n9fgba8b0qr01.png\" alt=\"Stack_more_layers\" width=\"400px\"/>"
   ]
  },
  {
   "cell_type": "code",
   "execution_count": 1,
   "metadata": {},
   "outputs": [],
   "source": [
    "import numpy as np\n",
    "import matplotlib.pyplot as plt\n",
    "\n",
    "%matplotlib inline\n",
    "\n",
    "%load_ext autoreload\n",
    "%autoreload 2"
   ]
  },
  {
   "cell_type": "code",
   "execution_count": 2,
   "metadata": {},
   "outputs": [],
   "source": [
    "from dataset import load_svhn, random_split_train_val\n",
    "from gradient_check import check_layer_gradient, check_layer_param_gradient, check_model_gradient\n",
    "from layers import FullyConnectedLayer, ReLULayer\n",
    "from model import TwoLayerNet\n",
    "from trainer import Trainer, Dataset\n",
    "from optim import SGD, MomentumSGD\n",
    "from metrics import multiclass_accuracy"
   ]
  },
  {
   "cell_type": "markdown",
   "metadata": {},
   "source": [
    "# Загружаем данные\n",
    "\n",
    "И разделяем их на training и validation."
   ]
  },
  {
   "cell_type": "code",
   "execution_count": 3,
   "metadata": {},
   "outputs": [],
   "source": [
    "def prepare_for_neural_network(train_X, test_X):\n",
    "    train_flat = train_X.reshape(train_X.shape[0], -1).astype(np.float) / 255.0\n",
    "    test_flat = test_X.reshape(test_X.shape[0], -1).astype(np.float) / 255.0\n",
    "    \n",
    "    # Subtract mean\n",
    "    mean_image = np.mean(train_flat, axis = 0)\n",
    "    train_flat -= mean_image\n",
    "    test_flat -= mean_image\n",
    "    \n",
    "    return train_flat, test_flat\n",
    "    \n",
    "train_X, train_y, test_X, test_y = load_svhn(\"data\", max_train=10000, max_test=1000)    \n",
    "train_X, test_X = prepare_for_neural_network(train_X, test_X)\n",
    "# Split train into train and val\n",
    "train_X, train_y, val_X, val_y = random_split_train_val(train_X, train_y, num_val = 1000)"
   ]
  },
  {
   "cell_type": "markdown",
   "metadata": {},
   "source": [
    "# Как всегда, начинаем с кирпичиков\n",
    "\n",
    "Мы будем реализовывать необходимые нам слои по очереди. Каждый слой должен реализовать:\n",
    "- прямой проход (forward pass), который генерирует выход слоя по входу и запоминает необходимые данные\n",
    "- обратный проход (backward pass), который получает градиент по выходу слоя и вычисляет градиент по входу и по параметрам\n",
    "\n",
    "Начнем с ReLU, у которого параметров нет."
   ]
  },
  {
   "cell_type": "code",
   "execution_count": 4,
   "metadata": {
    "scrolled": false
   },
   "outputs": [
    {
     "name": "stdout",
     "output_type": "stream",
     "text": [
      "Gradient check passed!\n"
     ]
    }
   ],
   "source": [
    "# TODO: Implement ReLULayer layer in layers.py\n",
    "# Note: you'll need to copy implementation of the gradient_check function from the previous assignment\n",
    "\n",
    "X = np.array([[1,-2,3],\n",
    "              [-1, 2, 0.1]\n",
    "              ])\n",
    "\n",
    "assert check_layer_gradient(ReLULayer(), X)"
   ]
  },
  {
   "cell_type": "markdown",
   "metadata": {},
   "source": [
    "А теперь реализуем полносвязный слой (fully connected layer), у которого будет два массива параметров: W (weights) и B (bias).\n",
    "\n",
    "Все параметры наши слои будут использовать для параметров специальный класс `Param`, в котором будут храниться значения параметров и градиенты этих параметров, вычисляемые во время обратного прохода.\n",
    "\n",
    "Это даст возможность аккумулировать (суммировать) градиенты из разных частей функции потерь, например, из cross-entropy loss и regularization loss."
   ]
  },
  {
   "cell_type": "code",
   "execution_count": 5,
   "metadata": {},
   "outputs": [
    {
     "name": "stdout",
     "output_type": "stream",
     "text": [
      "Gradient check passed!\n",
      "Gradient check passed!\n",
      "Gradient check passed!\n"
     ]
    }
   ],
   "source": [
    "# TODO: Implement FullyConnected layer forward and backward methods\n",
    "assert check_layer_gradient(FullyConnectedLayer(3, 4), X)\n",
    "# TODO: Implement storing gradients for W and B\n",
    "assert check_layer_param_gradient(FullyConnectedLayer(3, 4), X, 'W')\n",
    "assert check_layer_param_gradient(FullyConnectedLayer(3, 4), X, 'B')"
   ]
  },
  {
   "cell_type": "markdown",
   "metadata": {},
   "source": [
    "## Создаем нейронную сеть\n",
    "\n",
    "Теперь мы реализуем простейшую нейронную сеть с двумя полносвязным слоями и нелинейностью ReLU. Реализуйте функцию `compute_loss_and_gradients`, она должна запустить прямой и обратный проход через оба слоя для вычисления градиентов.\n",
    "\n",
    "Не забудьте реализовать очистку градиентов в начале функции."
   ]
  },
  {
   "cell_type": "code",
   "execution_count": 6,
   "metadata": {},
   "outputs": [
    {
     "name": "stdout",
     "output_type": "stream",
     "text": [
      "Checking gradient for W.0\n",
      "Gradient check passed!\n",
      "Checking gradient for B.0\n",
      "Gradient check passed!\n",
      "Checking gradient for W.2\n",
      "Gradient check passed!\n",
      "Checking gradient for B.2\n",
      "Gradient check passed!\n"
     ]
    },
    {
     "data": {
      "text/plain": [
       "True"
      ]
     },
     "execution_count": 6,
     "metadata": {},
     "output_type": "execute_result"
    }
   ],
   "source": [
    "# TODO: In model.py, implement compute_loss_and_gradients function\n",
    "model = TwoLayerNet(n_input = train_X.shape[1], n_output = 10, hidden_layer_size = 3, reg = 0)\n",
    "loss = model.compute_loss_and_gradients(train_X[:2], train_y[:2])\n",
    "\n",
    "# TODO Now implement backward pass and aggregate all of the params\n",
    "check_model_gradient(model, train_X[:2], train_y[:2])"
   ]
  },
  {
   "cell_type": "markdown",
   "metadata": {},
   "source": [
    "Теперь добавьте к модели регуляризацию - она должна прибавляться к loss и делать свой вклад в градиенты."
   ]
  },
  {
   "cell_type": "code",
   "execution_count": 7,
   "metadata": {},
   "outputs": [
    {
     "name": "stdout",
     "output_type": "stream",
     "text": [
      "Checking gradient for W.0\n",
      "Gradient check passed!\n",
      "Checking gradient for B.0\n",
      "Gradient check passed!\n",
      "Checking gradient for W.2\n",
      "Gradient check passed!\n",
      "Checking gradient for B.2\n",
      "Gradient check passed!\n"
     ]
    },
    {
     "data": {
      "text/plain": [
       "True"
      ]
     },
     "execution_count": 7,
     "metadata": {},
     "output_type": "execute_result"
    }
   ],
   "source": [
    "# TODO Now implement l2 regularization in the forward and backward pass\n",
    "model_with_reg = TwoLayerNet(n_input = train_X.shape[1], n_output = 10, hidden_layer_size = 3, reg = 1e1)\n",
    "loss_with_reg = model_with_reg.compute_loss_and_gradients(train_X[:2], train_y[:2])\n",
    "assert loss_with_reg > loss and not np.isclose(loss_with_reg, loss), \\\n",
    "    \"Loss with regularization (%2.4f) should be higher than without it (%2.4f)!\" % (loss, loss_with_reg)\n",
    "\n",
    "check_model_gradient(model_with_reg, train_X[:2], train_y[:2])"
   ]
  },
  {
   "cell_type": "markdown",
   "metadata": {},
   "source": [
    "Также реализуем функцию предсказания (вычисления значения) модели на новых данных.\n",
    "\n",
    "Какое значение точности мы ожидаем увидеть до начала тренировки?"
   ]
  },
  {
   "cell_type": "code",
   "execution_count": 8,
   "metadata": {},
   "outputs": [
    {
     "data": {
      "text/plain": [
       "0.1"
      ]
     },
     "execution_count": 8,
     "metadata": {},
     "output_type": "execute_result"
    }
   ],
   "source": [
    "# Finally, implement predict function!\n",
    "\n",
    "# TODO: Implement predict function\n",
    "# What would be the value we expect?\n",
    "multiclass_accuracy(model_with_reg.predict(train_X[:30]), train_y[:30]) "
   ]
  },
  {
   "cell_type": "markdown",
   "metadata": {},
   "source": [
    "# Допишем код для процесса тренировки"
   ]
  },
  {
   "cell_type": "code",
   "execution_count": 28,
   "metadata": {},
   "outputs": [],
   "source": [
    "model = TwoLayerNet(n_input = train_X.shape[1], n_output = 10, hidden_layer_size = 100, reg = 1e-3)\n",
    "dataset = Dataset(train_X, train_y, val_X, val_y)"
   ]
  },
  {
   "cell_type": "code",
   "execution_count": 29,
   "metadata": {},
   "outputs": [
    {
     "name": "stdout",
     "output_type": "stream",
     "text": [
      "Loss: 2.265167, Train accuracy: 0.196667, val accuracy: 0.206000\n",
      "Loss: 2.248721, Train accuracy: 0.196667, val accuracy: 0.206000\n",
      "Loss: 2.186874, Train accuracy: 0.196667, val accuracy: 0.206000\n",
      "Loss: 2.324953, Train accuracy: 0.196667, val accuracy: 0.206000\n",
      "Loss: 2.354709, Train accuracy: 0.196667, val accuracy: 0.206000\n",
      "Loss: 2.188342, Train accuracy: 0.196667, val accuracy: 0.206000\n",
      "Loss: 2.109496, Train accuracy: 0.196667, val accuracy: 0.206000\n",
      "Loss: 2.321692, Train accuracy: 0.196667, val accuracy: 0.206000\n",
      "Loss: 2.121988, Train accuracy: 0.202667, val accuracy: 0.211000\n",
      "Loss: 2.281694, Train accuracy: 0.228667, val accuracy: 0.232000\n",
      "Loss: 2.250805, Train accuracy: 0.255333, val accuracy: 0.253000\n",
      "Loss: 2.097946, Train accuracy: 0.271111, val accuracy: 0.271000\n",
      "Loss: 1.729140, Train accuracy: 0.279667, val accuracy: 0.281000\n",
      "Loss: 1.963329, Train accuracy: 0.301222, val accuracy: 0.310000\n",
      "Loss: 1.982550, Train accuracy: 0.339111, val accuracy: 0.348000\n",
      "Loss: 1.774745, Train accuracy: 0.365889, val accuracy: 0.357000\n",
      "Loss: 1.630781, Train accuracy: 0.388444, val accuracy: 0.376000\n",
      "Loss: 1.946811, Train accuracy: 0.415333, val accuracy: 0.404000\n",
      "Loss: 1.664333, Train accuracy: 0.434333, val accuracy: 0.430000\n",
      "Loss: 1.816586, Train accuracy: 0.461667, val accuracy: 0.449000\n"
     ]
    }
   ],
   "source": [
    "trainer = Trainer(model, dataset, SGD())\n",
    "\n",
    "# TODO Implement missing pieces in Trainer.fit function\n",
    "# You should expect loss to go down and train and val accuracy go up for every epoch\n",
    "loss_history, train_history, val_history = trainer.fit()"
   ]
  },
  {
   "cell_type": "code",
   "execution_count": 30,
   "metadata": {},
   "outputs": [
    {
     "data": {
      "text/plain": [
       "[<matplotlib.lines.Line2D at 0x7f8554178668>]"
      ]
     },
     "execution_count": 30,
     "metadata": {},
     "output_type": "execute_result"
    },
    {
     "data": {
      "image/png": "[encoded data removed]",
      "text/plain": [
       "<Figure size 432x288 with 1 Axes>"
      ]
     },
     "metadata": {
      "needs_background": "light"
     },
     "output_type": "display_data"
    }
   ],
   "source": [
    "plt.plot(train_history)\n",
    "plt.plot(val_history)"
   ]
  },
  {
   "cell_type": "markdown",
   "metadata": {},
   "source": [
    "# Улучшаем процесс тренировки\n",
    "\n",
    "Мы реализуем несколько ключевых оптимизаций, необходимых для тренировки современных нейросетей."
   ]
  },
  {
   "cell_type": "markdown",
   "metadata": {},
   "source": [
    "## Уменьшение скорости обучения (learning rate decay)\n",
    "\n",
    "Одна из необходимых оптимизаций во время тренировки нейронных сетей - постепенное уменьшение скорости обучения по мере тренировки.\n",
    "\n",
    "Один из стандартных методов - уменьшение скорости обучения (learning rate) каждые N эпох на коэффициент d (часто называемый decay). Значения N и d, как всегда, являются гиперпараметрами и должны подбираться на основе эффективности на проверочных данных (validation data). \n",
    "\n",
    "В нашем случае N будет равным 1."
   ]
  },
  {
   "cell_type": "code",
   "execution_count": 32,
   "metadata": {},
   "outputs": [
    {
     "name": "stdout",
     "output_type": "stream",
     "text": [
      "Loss: 2.205301, Train accuracy: 0.196667, val accuracy: 0.206000\n",
      "Loss: 2.235634, Train accuracy: 0.196667, val accuracy: 0.206000\n",
      "Loss: 2.397666, Train accuracy: 0.196667, val accuracy: 0.206000\n",
      "Loss: 2.299052, Train accuracy: 0.196667, val accuracy: 0.206000\n",
      "Loss: 2.166628, Train accuracy: 0.196667, val accuracy: 0.206000\n",
      "Loss: 2.196912, Train accuracy: 0.196667, val accuracy: 0.206000\n",
      "Loss: 2.278792, Train accuracy: 0.196667, val accuracy: 0.206000\n",
      "Loss: 2.164314, Train accuracy: 0.196667, val accuracy: 0.206000\n",
      "Loss: 2.095963, Train accuracy: 0.196667, val accuracy: 0.206000\n",
      "Loss: 2.198491, Train accuracy: 0.199778, val accuracy: 0.209000\n",
      "Loss: 2.076667, Train accuracy: 0.215556, val accuracy: 0.221000\n",
      "Loss: 2.405659, Train accuracy: 0.237111, val accuracy: 0.244000\n",
      "Loss: 1.994030, Train accuracy: 0.250444, val accuracy: 0.251000\n",
      "Loss: 2.169306, Train accuracy: 0.260000, val accuracy: 0.259000\n",
      "Loss: 2.163960, Train accuracy: 0.275444, val accuracy: 0.276000\n",
      "Loss: 2.249170, Train accuracy: 0.274111, val accuracy: 0.275000\n",
      "Loss: 2.318690, Train accuracy: 0.282556, val accuracy: 0.284000\n",
      "Loss: 2.179334, Train accuracy: 0.290222, val accuracy: 0.298000\n",
      "Loss: 1.836533, Train accuracy: 0.316556, val accuracy: 0.328000\n",
      "Loss: 2.175840, Train accuracy: 0.338778, val accuracy: 0.346000\n"
     ]
    }
   ],
   "source": [
    "# TODO Implement learning rate decay inside Trainer.fit method\n",
    "# Decay should happen once per epoch\n",
    "\n",
    "model = TwoLayerNet(n_input = train_X.shape[1], n_output = 10, hidden_layer_size = 100, reg = 1e-2)\n",
    "dataset = Dataset(train_X, train_y, val_X, val_y)\n",
    "trainer = Trainer(model, dataset, SGD(), learning_rate_decay=0.99)\n",
    "\n",
    "initial_learning_rate = trainer.learning_rate\n",
    "loss_history, train_history, val_history = trainer.fit()\n",
    "\n",
    "assert trainer.learning_rate < initial_learning_rate, \"Learning rate should've been reduced\"\n",
    "assert trainer.learning_rate > 0.5*initial_learning_rate, \"Learning rate shouldnt've been reduced that much!\""
   ]
  },
  {
   "cell_type": "markdown",
   "metadata": {},
   "source": [
    "# Накопление импульса (Momentum SGD)\n",
    "\n",
    "Другой большой класс оптимизаций - использование более эффективных методов градиентного спуска. Мы реализуем один из них - накопление импульса (Momentum SGD).\n",
    "\n",
    "Этот метод хранит скорость движения, использует градиент для ее изменения на каждом шаге, и изменяет веса пропорционально значению скорости.\n",
    "(Физическая аналогия: Вместо скорости градиенты теперь будут задавать ускорение, но будет присутствовать сила трения.)\n",
    "\n",
    "```\n",
    "velocity = momentum * velocity - learning_rate * gradient \n",
    "w = w + velocity\n",
    "```\n",
    "\n",
    "`momentum` здесь коэффициент затухания, который тоже является гиперпараметром (к счастью, для него часто есть хорошее значение по умолчанию, типичный диапазон -- 0.8-0.99).\n",
    "\n",
    "Несколько полезных ссылок, где метод разбирается более подробно:  \n",
    "http://cs231n.github.io/neural-networks-3/#sgd  \n",
    "https://distill.pub/2017/momentum/"
   ]
  },
  {
   "cell_type": "code",
   "execution_count": 33,
   "metadata": {},
   "outputs": [
    {
     "name": "stdout",
     "output_type": "stream",
     "text": [
      "Loss: 2.317505, Train accuracy: 0.196667, val accuracy: 0.206000\n",
      "Loss: 2.317512, Train accuracy: 0.196667, val accuracy: 0.206000\n",
      "Loss: 2.311539, Train accuracy: 0.196667, val accuracy: 0.206000\n",
      "Loss: 2.324136, Train accuracy: 0.196667, val accuracy: 0.206000\n",
      "Loss: 2.290344, Train accuracy: 0.196667, val accuracy: 0.206000\n",
      "Loss: 2.267378, Train accuracy: 0.196667, val accuracy: 0.206000\n",
      "Loss: 2.288999, Train accuracy: 0.196667, val accuracy: 0.206000\n",
      "Loss: 2.330089, Train accuracy: 0.196667, val accuracy: 0.206000\n",
      "Loss: 2.248735, Train accuracy: 0.196667, val accuracy: 0.206000\n",
      "Loss: 2.304099, Train accuracy: 0.196667, val accuracy: 0.206000\n",
      "Loss: 2.303540, Train accuracy: 0.196667, val accuracy: 0.206000\n",
      "Loss: 2.276428, Train accuracy: 0.196667, val accuracy: 0.206000\n",
      "Loss: 2.284558, Train accuracy: 0.196667, val accuracy: 0.206000\n",
      "Loss: 2.256547, Train accuracy: 0.196667, val accuracy: 0.206000\n",
      "Loss: 2.288094, Train accuracy: 0.196667, val accuracy: 0.206000\n",
      "Loss: 2.286183, Train accuracy: 0.196667, val accuracy: 0.206000\n",
      "Loss: 2.289746, Train accuracy: 0.196667, val accuracy: 0.206000\n",
      "Loss: 2.261610, Train accuracy: 0.196667, val accuracy: 0.206000\n",
      "Loss: 2.266870, Train accuracy: 0.196667, val accuracy: 0.206000\n",
      "Loss: 2.254713, Train accuracy: 0.196667, val accuracy: 0.206000\n"
     ]
    }
   ],
   "source": [
    "# TODO: Implement MomentumSGD.update function in optim.py\n",
    "\n",
    "model = TwoLayerNet(n_input = train_X.shape[1], n_output = 10, hidden_layer_size = 100, reg = 1e-1)\n",
    "dataset = Dataset(train_X, train_y, val_X, val_y)\n",
    "trainer = Trainer(model, dataset, MomentumSGD(), learning_rate=1e-4, learning_rate_decay=0.99)\n",
    "\n",
    "# You should see even better results than before!\n",
    "loss_history, train_history, val_history = trainer.fit()"
   ]
  },
  {
   "cell_type": "code",
   "execution_count": 34,
   "metadata": {},
   "outputs": [
    {
     "name": "stdout",
     "output_type": "stream",
     "text": [
      "Loss: 2.185211, Train accuracy: 0.232778, val accuracy: 0.231000\n",
      "Loss: 2.022479, Train accuracy: 0.347222, val accuracy: 0.344000\n",
      "Loss: 1.418819, Train accuracy: 0.543667, val accuracy: 0.539000\n",
      "Loss: 1.814802, Train accuracy: 0.618000, val accuracy: 0.619000\n",
      "Loss: 1.302679, Train accuracy: 0.673889, val accuracy: 0.657000\n",
      "Loss: 0.989751, Train accuracy: 0.701000, val accuracy: 0.667000\n",
      "Loss: 1.108223, Train accuracy: 0.685889, val accuracy: 0.663000\n",
      "Loss: 1.161123, Train accuracy: 0.723333, val accuracy: 0.687000\n",
      "Loss: 0.894011, Train accuracy: 0.722778, val accuracy: 0.673000\n",
      "Loss: 0.918358, Train accuracy: 0.721111, val accuracy: 0.695000\n",
      "Loss: 1.343249, Train accuracy: 0.760333, val accuracy: 0.719000\n",
      "Loss: 1.326490, Train accuracy: 0.761111, val accuracy: 0.709000\n",
      "Loss: 0.990287, Train accuracy: 0.784333, val accuracy: 0.733000\n",
      "Loss: 1.446589, Train accuracy: 0.769222, val accuracy: 0.716000\n",
      "Loss: 1.271744, Train accuracy: 0.787333, val accuracy: 0.729000\n",
      "Loss: 1.134993, Train accuracy: 0.778778, val accuracy: 0.709000\n",
      "Loss: 0.982208, Train accuracy: 0.814444, val accuracy: 0.751000\n",
      "Loss: 0.951749, Train accuracy: 0.797333, val accuracy: 0.716000\n",
      "Loss: 0.943716, Train accuracy: 0.811444, val accuracy: 0.726000\n",
      "Loss: 0.847214, Train accuracy: 0.823889, val accuracy: 0.738000\n"
     ]
    }
   ],
   "source": [
    "# TODO: Implement MomentumSGD.update function in optim.py\n",
    "\n",
    "model = TwoLayerNet(n_input = train_X.shape[1], n_output = 10, hidden_layer_size = 100, reg = 1e-3)\n",
    "dataset = Dataset(train_X, train_y, val_X, val_y)\n",
    "trainer = Trainer(model, dataset, MomentumSGD(), learning_rate=1e-2, learning_rate_decay=0.99)\n",
    "\n",
    "# You should see even better results than before!\n",
    "loss_history, train_history, val_history = trainer.fit()"
   ]
  },
  {
   "cell_type": "markdown",
   "metadata": {},
   "source": [
    "# Ну что, давайте уже тренировать сеть!"
   ]
  },
  {
   "cell_type": "markdown",
   "metadata": {},
   "source": [
    "## Последний тест - переобучимся (overfit) на маленьком наборе данных\n",
    "\n",
    "Хороший способ проверить, все ли реализовано корректно - переобучить сеть на маленьком наборе данных.  \n",
    "Наша модель обладает достаточной мощностью, чтобы приблизить маленький набор данных идеально, поэтому мы ожидаем, что на нем мы быстро дойдем до 100% точности на тренировочном наборе. \n",
    "\n",
    "Если этого не происходит, то где-то была допущена ошибка!"
   ]
  },
  {
   "cell_type": "code",
   "execution_count": 38,
   "metadata": {},
   "outputs": [
    {
     "name": "stdout",
     "output_type": "stream",
     "text": [
      "Loss: 2.339981, Train accuracy: 0.200000, val accuracy: 0.133333\n",
      "Loss: 2.343330, Train accuracy: 0.200000, val accuracy: 0.133333\n",
      "Loss: 2.332031, Train accuracy: 0.200000, val accuracy: 0.133333\n",
      "Loss: 2.301955, Train accuracy: 0.200000, val accuracy: 0.133333\n",
      "Loss: 2.291721, Train accuracy: 0.200000, val accuracy: 0.133333\n",
      "Loss: 2.269582, Train accuracy: 0.200000, val accuracy: 0.133333\n",
      "Loss: 2.275621, Train accuracy: 0.200000, val accuracy: 0.133333\n",
      "Loss: 2.227824, Train accuracy: 0.200000, val accuracy: 0.133333\n",
      "Loss: 2.173797, Train accuracy: 0.400000, val accuracy: 0.000000\n",
      "Loss: 1.997150, Train accuracy: 0.400000, val accuracy: 0.000000\n",
      "Loss: 2.017900, Train accuracy: 0.400000, val accuracy: 0.000000\n",
      "Loss: 2.227508, Train accuracy: 0.400000, val accuracy: 0.000000\n",
      "Loss: 2.177637, Train accuracy: 0.400000, val accuracy: 0.000000\n",
      "Loss: 1.536577, Train accuracy: 0.333333, val accuracy: 0.000000\n",
      "Loss: 2.054593, Train accuracy: 0.333333, val accuracy: 0.000000\n",
      "Loss: 1.695396, Train accuracy: 0.333333, val accuracy: 0.000000\n",
      "Loss: 1.585246, Train accuracy: 0.333333, val accuracy: 0.000000\n",
      "Loss: 1.338157, Train accuracy: 0.333333, val accuracy: 0.000000\n",
      "Loss: 1.599519, Train accuracy: 0.400000, val accuracy: 0.000000\n",
      "Loss: 2.468937, Train accuracy: 0.466667, val accuracy: 0.000000\n",
      "Loss: 1.486336, Train accuracy: 0.400000, val accuracy: 0.000000\n",
      "Loss: 1.818625, Train accuracy: 0.400000, val accuracy: 0.000000\n",
      "Loss: 1.984519, Train accuracy: 0.400000, val accuracy: 0.066667\n",
      "Loss: 1.674639, Train accuracy: 0.466667, val accuracy: 0.000000\n",
      "Loss: 1.674504, Train accuracy: 0.400000, val accuracy: 0.000000\n",
      "Loss: 1.458776, Train accuracy: 0.466667, val accuracy: 0.000000\n",
      "Loss: 1.896180, Train accuracy: 0.466667, val accuracy: 0.066667\n",
      "Loss: 1.594656, Train accuracy: 0.466667, val accuracy: 0.066667\n",
      "Loss: 1.776225, Train accuracy: 0.466667, val accuracy: 0.066667\n",
      "Loss: 1.816103, Train accuracy: 0.466667, val accuracy: 0.066667\n",
      "Loss: 1.467484, Train accuracy: 0.466667, val accuracy: 0.066667\n",
      "Loss: 1.519930, Train accuracy: 0.533333, val accuracy: 0.066667\n",
      "Loss: 1.436174, Train accuracy: 0.533333, val accuracy: 0.000000\n",
      "Loss: 2.032088, Train accuracy: 0.666667, val accuracy: 0.066667\n",
      "Loss: 1.226993, Train accuracy: 0.666667, val accuracy: 0.066667\n",
      "Loss: 1.719031, Train accuracy: 0.666667, val accuracy: 0.066667\n",
      "Loss: 2.135062, Train accuracy: 0.600000, val accuracy: 0.066667\n",
      "Loss: 1.291945, Train accuracy: 0.666667, val accuracy: 0.066667\n",
      "Loss: 1.280399, Train accuracy: 0.666667, val accuracy: 0.066667\n",
      "Loss: 1.051090, Train accuracy: 0.666667, val accuracy: 0.066667\n",
      "Loss: 1.471672, Train accuracy: 0.666667, val accuracy: 0.000000\n",
      "Loss: 1.655428, Train accuracy: 0.733333, val accuracy: 0.066667\n",
      "Loss: 1.960022, Train accuracy: 0.666667, val accuracy: 0.066667\n",
      "Loss: 1.630711, Train accuracy: 0.666667, val accuracy: 0.066667\n",
      "Loss: 1.612770, Train accuracy: 0.666667, val accuracy: 0.066667\n",
      "Loss: 1.338061, Train accuracy: 0.666667, val accuracy: 0.133333\n",
      "Loss: 1.176231, Train accuracy: 0.666667, val accuracy: 0.066667\n",
      "Loss: 1.185196, Train accuracy: 0.733333, val accuracy: 0.066667\n",
      "Loss: 0.696903, Train accuracy: 0.733333, val accuracy: 0.066667\n",
      "Loss: 1.329071, Train accuracy: 0.733333, val accuracy: 0.000000\n",
      "Loss: 1.191272, Train accuracy: 0.733333, val accuracy: 0.066667\n",
      "Loss: 2.153806, Train accuracy: 0.733333, val accuracy: 0.066667\n",
      "Loss: 1.513205, Train accuracy: 0.733333, val accuracy: 0.066667\n",
      "Loss: 1.791600, Train accuracy: 0.733333, val accuracy: 0.066667\n",
      "Loss: 1.508000, Train accuracy: 0.733333, val accuracy: 0.066667\n",
      "Loss: 1.635057, Train accuracy: 0.733333, val accuracy: 0.000000\n",
      "Loss: 0.907886, Train accuracy: 0.733333, val accuracy: 0.066667\n",
      "Loss: 1.948636, Train accuracy: 0.733333, val accuracy: 0.066667\n",
      "Loss: 1.799880, Train accuracy: 0.733333, val accuracy: 0.066667\n",
      "Loss: 1.175184, Train accuracy: 0.733333, val accuracy: 0.066667\n",
      "Loss: 1.524278, Train accuracy: 0.733333, val accuracy: 0.066667\n",
      "Loss: 1.052742, Train accuracy: 0.733333, val accuracy: 0.066667\n",
      "Loss: 1.388936, Train accuracy: 0.733333, val accuracy: 0.066667\n",
      "Loss: 1.955483, Train accuracy: 0.733333, val accuracy: 0.066667\n",
      "Loss: 1.664041, Train accuracy: 0.733333, val accuracy: 0.066667\n",
      "Loss: 1.919471, Train accuracy: 0.733333, val accuracy: 0.066667\n",
      "Loss: 1.700524, Train accuracy: 0.733333, val accuracy: 0.066667\n",
      "Loss: 1.707978, Train accuracy: 0.733333, val accuracy: 0.066667\n",
      "Loss: 0.957587, Train accuracy: 0.733333, val accuracy: 0.066667\n",
      "Loss: 1.597677, Train accuracy: 0.733333, val accuracy: 0.066667\n",
      "Loss: 1.688872, Train accuracy: 0.733333, val accuracy: 0.066667\n",
      "Loss: 0.989434, Train accuracy: 0.733333, val accuracy: 0.066667\n",
      "Loss: 1.282256, Train accuracy: 0.733333, val accuracy: 0.066667\n",
      "Loss: 1.548975, Train accuracy: 0.800000, val accuracy: 0.066667\n",
      "Loss: 1.888581, Train accuracy: 0.800000, val accuracy: 0.066667\n",
      "Loss: 1.312451, Train accuracy: 0.800000, val accuracy: 0.066667\n",
      "Loss: 1.263713, Train accuracy: 0.800000, val accuracy: 0.066667\n",
      "Loss: 1.642243, Train accuracy: 0.800000, val accuracy: 0.066667\n",
      "Loss: 0.913349, Train accuracy: 0.800000, val accuracy: 0.066667\n",
      "Loss: 1.328613, Train accuracy: 0.800000, val accuracy: 0.066667\n",
      "Loss: 1.569346, Train accuracy: 0.800000, val accuracy: 0.066667\n",
      "Loss: 0.878013, Train accuracy: 0.800000, val accuracy: 0.066667\n",
      "Loss: 1.707508, Train accuracy: 0.866667, val accuracy: 0.066667\n",
      "Loss: 1.627158, Train accuracy: 0.933333, val accuracy: 0.066667\n",
      "Loss: 1.909897, Train accuracy: 0.933333, val accuracy: 0.066667\n",
      "Loss: 1.615357, Train accuracy: 0.933333, val accuracy: 0.066667\n",
      "Loss: 1.873575, Train accuracy: 0.933333, val accuracy: 0.066667\n",
      "Loss: 1.181790, Train accuracy: 0.933333, val accuracy: 0.066667\n",
      "Loss: 1.211610, Train accuracy: 0.933333, val accuracy: 0.066667\n",
      "Loss: 1.385215, Train accuracy: 0.933333, val accuracy: 0.066667\n",
      "Loss: 1.183816, Train accuracy: 0.933333, val accuracy: 0.066667\n",
      "Loss: 1.571922, Train accuracy: 0.933333, val accuracy: 0.066667\n",
      "Loss: 1.601133, Train accuracy: 0.933333, val accuracy: 0.066667\n",
      "Loss: 1.495302, Train accuracy: 0.933333, val accuracy: 0.066667\n",
      "Loss: 1.404649, Train accuracy: 0.933333, val accuracy: 0.066667\n",
      "Loss: 1.655472, Train accuracy: 0.933333, val accuracy: 0.066667\n",
      "Loss: 1.316984, Train accuracy: 0.933333, val accuracy: 0.066667\n",
      "Loss: 1.533124, Train accuracy: 0.933333, val accuracy: 0.066667\n",
      "Loss: 1.274056, Train accuracy: 0.933333, val accuracy: 0.066667\n",
      "Loss: 1.434728, Train accuracy: 0.933333, val accuracy: 0.066667\n",
      "Loss: 1.308371, Train accuracy: 0.933333, val accuracy: 0.066667\n",
      "Loss: 1.177164, Train accuracy: 0.933333, val accuracy: 0.066667\n",
      "Loss: 1.095068, Train accuracy: 0.933333, val accuracy: 0.000000\n",
      "Loss: 0.981416, Train accuracy: 0.933333, val accuracy: 0.066667\n",
      "Loss: 1.324686, Train accuracy: 0.933333, val accuracy: 0.000000\n",
      "Loss: 1.267016, Train accuracy: 0.933333, val accuracy: 0.000000\n",
      "Loss: 1.256834, Train accuracy: 0.933333, val accuracy: 0.000000\n",
      "Loss: 1.681947, Train accuracy: 0.933333, val accuracy: 0.000000\n",
      "Loss: 1.307583, Train accuracy: 0.933333, val accuracy: 0.000000\n",
      "Loss: 1.415049, Train accuracy: 0.933333, val accuracy: 0.000000\n",
      "Loss: 1.410926, Train accuracy: 0.933333, val accuracy: 0.000000\n",
      "Loss: 1.515913, Train accuracy: 0.933333, val accuracy: 0.000000\n",
      "Loss: 1.520751, Train accuracy: 0.933333, val accuracy: 0.000000\n",
      "Loss: 1.415491, Train accuracy: 0.933333, val accuracy: 0.000000\n",
      "Loss: 1.509366, Train accuracy: 0.933333, val accuracy: 0.000000\n",
      "Loss: 1.433683, Train accuracy: 0.933333, val accuracy: 0.000000\n",
      "Loss: 1.325256, Train accuracy: 0.933333, val accuracy: 0.000000\n",
      "Loss: 1.468665, Train accuracy: 1.000000, val accuracy: 0.000000\n",
      "Loss: 1.327258, Train accuracy: 0.933333, val accuracy: 0.000000\n",
      "Loss: 1.417179, Train accuracy: 1.000000, val accuracy: 0.000000\n",
      "Loss: 1.454770, Train accuracy: 1.000000, val accuracy: 0.000000\n",
      "Loss: 1.039947, Train accuracy: 1.000000, val accuracy: 0.000000\n",
      "Loss: 1.281356, Train accuracy: 1.000000, val accuracy: 0.000000\n",
      "Loss: 1.378230, Train accuracy: 1.000000, val accuracy: 0.000000\n",
      "Loss: 1.529276, Train accuracy: 1.000000, val accuracy: 0.000000\n",
      "Loss: 1.135037, Train accuracy: 1.000000, val accuracy: 0.000000\n",
      "Loss: 1.228044, Train accuracy: 0.933333, val accuracy: 0.000000\n",
      "Loss: 1.045876, Train accuracy: 1.000000, val accuracy: 0.000000\n"
     ]
    },
    {
     "name": "stdout",
     "output_type": "stream",
     "text": [
      "Loss: 1.622290, Train accuracy: 1.000000, val accuracy: 0.000000\n",
      "Loss: 1.639826, Train accuracy: 1.000000, val accuracy: 0.000000\n",
      "Loss: 1.191109, Train accuracy: 1.000000, val accuracy: 0.000000\n",
      "Loss: 1.523115, Train accuracy: 1.000000, val accuracy: 0.000000\n",
      "Loss: 1.430066, Train accuracy: 1.000000, val accuracy: 0.000000\n",
      "Loss: 1.163325, Train accuracy: 1.000000, val accuracy: 0.000000\n",
      "Loss: 1.107159, Train accuracy: 1.000000, val accuracy: 0.000000\n",
      "Loss: 1.129271, Train accuracy: 1.000000, val accuracy: 0.000000\n",
      "Loss: 1.175188, Train accuracy: 1.000000, val accuracy: 0.000000\n",
      "Loss: 1.444849, Train accuracy: 1.000000, val accuracy: 0.000000\n",
      "Loss: 1.502221, Train accuracy: 1.000000, val accuracy: 0.000000\n",
      "Loss: 1.179225, Train accuracy: 1.000000, val accuracy: 0.000000\n",
      "Loss: 1.602575, Train accuracy: 1.000000, val accuracy: 0.000000\n",
      "Loss: 1.466551, Train accuracy: 1.000000, val accuracy: 0.000000\n",
      "Loss: 1.435287, Train accuracy: 1.000000, val accuracy: 0.000000\n",
      "Loss: 1.381896, Train accuracy: 1.000000, val accuracy: 0.000000\n",
      "Loss: 1.466196, Train accuracy: 1.000000, val accuracy: 0.000000\n",
      "Loss: 1.287347, Train accuracy: 1.000000, val accuracy: 0.000000\n",
      "Loss: 1.575491, Train accuracy: 1.000000, val accuracy: 0.000000\n",
      "Loss: 1.231950, Train accuracy: 1.000000, val accuracy: 0.000000\n",
      "Loss: 1.211026, Train accuracy: 1.000000, val accuracy: 0.000000\n",
      "Loss: 1.346997, Train accuracy: 1.000000, val accuracy: 0.000000\n"
     ]
    }
   ],
   "source": [
    "data_size = 15\n",
    "model = TwoLayerNet(n_input = train_X.shape[1], n_output = 10, hidden_layer_size = 100, reg = 1e-1)\n",
    "dataset = Dataset(train_X[:data_size], train_y[:data_size], val_X[:data_size], val_y[:data_size])\n",
    "trainer = Trainer(model, dataset, SGD(), learning_rate=1e-1, num_epochs=150, batch_size=5)\n",
    "\n",
    "# You should expect this to reach 1.0 training accuracy \n",
    "loss_history, train_history, val_history = trainer.fit()"
   ]
  },
  {
   "cell_type": "markdown",
   "metadata": {},
   "source": [
    "Теперь найдем гипепараметры, для которых этот процесс сходится быстрее.\n",
    "Если все реализовано корректно, то существуют параметры, при которых процесс сходится в **20** эпох или еще быстрее.\n",
    "Найдите их!"
   ]
  },
  {
   "cell_type": "code",
   "execution_count": 39,
   "metadata": {},
   "outputs": [
    {
     "name": "stdout",
     "output_type": "stream",
     "text": [
      "Loss: 2.363362, Train accuracy: 0.200000, val accuracy: 0.133333\n",
      "Loss: 2.256136, Train accuracy: 0.200000, val accuracy: 0.133333\n",
      "Loss: 2.320713, Train accuracy: 0.266667, val accuracy: 0.000000\n",
      "Loss: 2.241973, Train accuracy: 0.333333, val accuracy: 0.000000\n",
      "Loss: 2.061653, Train accuracy: 0.400000, val accuracy: 0.000000\n",
      "Loss: 1.714725, Train accuracy: 0.333333, val accuracy: 0.133333\n",
      "Loss: 1.696971, Train accuracy: 0.400000, val accuracy: 0.133333\n",
      "Loss: 1.295343, Train accuracy: 0.466667, val accuracy: 0.000000\n",
      "Loss: 1.352848, Train accuracy: 0.400000, val accuracy: 0.000000\n",
      "Loss: 1.143845, Train accuracy: 0.400000, val accuracy: 0.000000\n",
      "Loss: 1.781713, Train accuracy: 0.666667, val accuracy: 0.066667\n",
      "Loss: 1.569731, Train accuracy: 0.666667, val accuracy: 0.066667\n",
      "Loss: 1.284563, Train accuracy: 0.733333, val accuracy: 0.000000\n",
      "Loss: 1.833659, Train accuracy: 0.733333, val accuracy: 0.066667\n",
      "Loss: 0.774756, Train accuracy: 0.733333, val accuracy: 0.000000\n",
      "Loss: 0.813238, Train accuracy: 0.800000, val accuracy: 0.000000\n",
      "Loss: 0.187187, Train accuracy: 0.933333, val accuracy: 0.000000\n",
      "Loss: 0.382146, Train accuracy: 1.000000, val accuracy: 0.000000\n",
      "Loss: 0.148854, Train accuracy: 0.933333, val accuracy: 0.000000\n",
      "Loss: 0.238917, Train accuracy: 1.000000, val accuracy: 0.066667\n"
     ]
    }
   ],
   "source": [
    "# Now, tweak some hyper parameters and make it train to 1.0 accuracy in 20 epochs or less\n",
    "\n",
    "model = TwoLayerNet(n_input = train_X.shape[1], n_output = 10, hidden_layer_size = 100, reg = 0)\n",
    "dataset = Dataset(train_X[:data_size], train_y[:data_size], val_X[:data_size], val_y[:data_size])\n",
    "# TODO: Change any hyperparamers or optimizators to reach training accuracy in 20 epochs\n",
    "trainer = Trainer(model, dataset, SGD(), learning_rate=3e-1, num_epochs=20, batch_size=5)\n",
    "\n",
    "loss_history, train_history, val_history = trainer.fit()"
   ]
  },
  {
   "cell_type": "markdown",
   "metadata": {},
   "source": [
    "# Итак, основное мероприятие!\n",
    "\n",
    "Натренируйте лучшую нейросеть! Можно добавлять и изменять параметры, менять количество нейронов в слоях сети и как угодно экспериментировать. \n",
    "\n",
    "Добейтесь точности лучше **40%** на validation set."
   ]
  },
  {
   "cell_type": "code",
   "execution_count": 5,
   "metadata": {
    "scrolled": true
   },
   "outputs": [
    {
     "name": "stdout",
     "output_type": "stream",
     "text": [
      "*** Trainging with learning_rate=0.03162277660168379, learning_rate_decay=0.999, hidden_layer_size=100\n",
      "Loss: 2.141561, Train accuracy: 0.196667, val accuracy: 0.206000\n",
      "Loss: 1.858859, Train accuracy: 0.353444, val accuracy: 0.342000\n",
      "Loss: 1.772342, Train accuracy: 0.528556, val accuracy: 0.517000\n",
      "Loss: 1.526930, Train accuracy: 0.601111, val accuracy: 0.578000\n",
      "Loss: 1.189715, Train accuracy: 0.654556, val accuracy: 0.631000\n",
      "Loss: 1.382675, Train accuracy: 0.655444, val accuracy: 0.644000\n",
      "Loss: 1.127672, Train accuracy: 0.701111, val accuracy: 0.654000\n",
      "Loss: 1.009897, Train accuracy: 0.710889, val accuracy: 0.693000\n",
      "Loss: 0.951264, Train accuracy: 0.710556, val accuracy: 0.676000\n",
      "Loss: 1.465723, Train accuracy: 0.736444, val accuracy: 0.707000\n",
      "Loss: 1.491281, Train accuracy: 0.752222, val accuracy: 0.689000\n",
      "Loss: 1.035729, Train accuracy: 0.760556, val accuracy: 0.688000\n",
      "Loss: 0.910724, Train accuracy: 0.775222, val accuracy: 0.707000\n",
      "Loss: 1.013087, Train accuracy: 0.771556, val accuracy: 0.714000\n",
      "Loss: 1.272052, Train accuracy: 0.791333, val accuracy: 0.721000\n",
      "Loss: 1.113852, Train accuracy: 0.775222, val accuracy: 0.723000\n",
      "Loss: 0.968128, Train accuracy: 0.796667, val accuracy: 0.725000\n",
      "Loss: 1.105865, Train accuracy: 0.786444, val accuracy: 0.715000\n",
      "Loss: 1.179269, Train accuracy: 0.813778, val accuracy: 0.738000\n",
      "Loss: 1.228649, Train accuracy: 0.815333, val accuracy: 0.741000\n",
      "Loss: 0.733026, Train accuracy: 0.795222, val accuracy: 0.716000\n",
      "Loss: 1.140601, Train accuracy: 0.786222, val accuracy: 0.703000\n",
      "Loss: 1.208977, Train accuracy: 0.826889, val accuracy: 0.744000\n",
      "Loss: 1.383872, Train accuracy: 0.801111, val accuracy: 0.721000\n",
      "Loss: 1.020600, Train accuracy: 0.826889, val accuracy: 0.750000\n",
      "Loss: 0.870327, Train accuracy: 0.820444, val accuracy: 0.724000\n",
      "Loss: 0.994730, Train accuracy: 0.821111, val accuracy: 0.741000\n",
      "Loss: 1.047109, Train accuracy: 0.828667, val accuracy: 0.736000\n",
      "Loss: 0.965944, Train accuracy: 0.784889, val accuracy: 0.702000\n",
      "Loss: 1.460240, Train accuracy: 0.771000, val accuracy: 0.703000\n",
      "Loss: 0.917193, Train accuracy: 0.808556, val accuracy: 0.730000\n",
      "Loss: 1.025682, Train accuracy: 0.832222, val accuracy: 0.753000\n",
      "Loss: 0.923870, Train accuracy: 0.829444, val accuracy: 0.730000\n",
      "Loss: 0.767052, Train accuracy: 0.843556, val accuracy: 0.751000\n",
      "Loss: 1.156592, Train accuracy: 0.844222, val accuracy: 0.753000\n",
      "Loss: 0.935842, Train accuracy: 0.837889, val accuracy: 0.729000\n",
      "Loss: 1.153611, Train accuracy: 0.836778, val accuracy: 0.743000\n",
      "Loss: 0.821010, Train accuracy: 0.817333, val accuracy: 0.726000\n",
      "Loss: 1.118940, Train accuracy: 0.848111, val accuracy: 0.751000\n",
      "Loss: 0.897473, Train accuracy: 0.835222, val accuracy: 0.742000\n",
      "Loss: 0.746959, Train accuracy: 0.823556, val accuracy: 0.745000\n",
      "Loss: 0.832630, Train accuracy: 0.844111, val accuracy: 0.736000\n",
      "Loss: 0.904245, Train accuracy: 0.851000, val accuracy: 0.751000\n",
      "Loss: 1.058416, Train accuracy: 0.846222, val accuracy: 0.759000\n",
      "Loss: 0.772037, Train accuracy: 0.830667, val accuracy: 0.734000\n",
      "Loss: 0.887452, Train accuracy: 0.857889, val accuracy: 0.751000\n",
      "Loss: 0.880942, Train accuracy: 0.858556, val accuracy: 0.766000\n",
      "Loss: 0.846963, Train accuracy: 0.853556, val accuracy: 0.741000\n",
      "Loss: 1.143320, Train accuracy: 0.859000, val accuracy: 0.748000\n",
      "Loss: 0.875583, Train accuracy: 0.856000, val accuracy: 0.749000\n",
      "Loss: 0.985047, Train accuracy: 0.828000, val accuracy: 0.728000\n",
      "Loss: 1.133787, Train accuracy: 0.840333, val accuracy: 0.741000\n",
      "Loss: 1.278815, Train accuracy: 0.824556, val accuracy: 0.732000\n",
      "Loss: 0.841164, Train accuracy: 0.847667, val accuracy: 0.725000\n",
      "Loss: 0.935415, Train accuracy: 0.828000, val accuracy: 0.723000\n",
      "Loss: 0.753287, Train accuracy: 0.864889, val accuracy: 0.759000\n",
      "Loss: 0.944403, Train accuracy: 0.848889, val accuracy: 0.747000\n",
      "Loss: 0.898675, Train accuracy: 0.851556, val accuracy: 0.752000\n",
      "Loss: 1.115872, Train accuracy: 0.850222, val accuracy: 0.741000\n",
      "Loss: 0.697479, Train accuracy: 0.832222, val accuracy: 0.734000\n",
      "Loss: 0.726041, Train accuracy: 0.867333, val accuracy: 0.758000\n",
      "Loss: 0.676959, Train accuracy: 0.838444, val accuracy: 0.736000\n",
      "Loss: 0.970831, Train accuracy: 0.867889, val accuracy: 0.752000\n",
      "Loss: 0.825315, Train accuracy: 0.848333, val accuracy: 0.732000\n",
      "Loss: 0.911483, Train accuracy: 0.842778, val accuracy: 0.738000\n",
      "Loss: 0.680870, Train accuracy: 0.849333, val accuracy: 0.735000\n",
      "Loss: 0.879666, Train accuracy: 0.871222, val accuracy: 0.760000\n",
      "Loss: 0.877473, Train accuracy: 0.857000, val accuracy: 0.752000\n",
      "Loss: 1.323916, Train accuracy: 0.841222, val accuracy: 0.742000\n",
      "Loss: 0.915593, Train accuracy: 0.845667, val accuracy: 0.755000\n",
      "Loss: 0.891325, Train accuracy: 0.874000, val accuracy: 0.747000\n",
      "Loss: 0.716541, Train accuracy: 0.858556, val accuracy: 0.746000\n",
      "Loss: 0.946668, Train accuracy: 0.861889, val accuracy: 0.726000\n",
      "Loss: 0.783022, Train accuracy: 0.878222, val accuracy: 0.765000\n",
      "Loss: 0.994081, Train accuracy: 0.849778, val accuracy: 0.722000\n",
      "Loss: 0.836963, Train accuracy: 0.827556, val accuracy: 0.735000\n",
      "Loss: 0.995797, Train accuracy: 0.840889, val accuracy: 0.731000\n",
      "Loss: 1.327961, Train accuracy: 0.849444, val accuracy: 0.732000\n",
      "Loss: 0.807891, Train accuracy: 0.835000, val accuracy: 0.735000\n",
      "Loss: 0.876646, Train accuracy: 0.835667, val accuracy: 0.732000\n",
      "Loss: 1.065824, Train accuracy: 0.838333, val accuracy: 0.732000\n",
      "Loss: 1.284429, Train accuracy: 0.874889, val accuracy: 0.744000\n",
      "Loss: 1.027148, Train accuracy: 0.868000, val accuracy: 0.745000\n",
      "Loss: 0.926881, Train accuracy: 0.868889, val accuracy: 0.752000\n",
      "Loss: 0.873567, Train accuracy: 0.851444, val accuracy: 0.747000\n",
      "Loss: 0.839311, Train accuracy: 0.859556, val accuracy: 0.749000\n",
      "Loss: 1.016562, Train accuracy: 0.837444, val accuracy: 0.726000\n",
      "Loss: 0.777940, Train accuracy: 0.859667, val accuracy: 0.754000\n",
      "Loss: 0.985043, Train accuracy: 0.861222, val accuracy: 0.753000\n",
      "Loss: 0.983609, Train accuracy: 0.820222, val accuracy: 0.727000\n",
      "Loss: 1.010156, Train accuracy: 0.861333, val accuracy: 0.752000\n",
      "Loss: 0.979418, Train accuracy: 0.852556, val accuracy: 0.728000\n",
      "Loss: 0.756715, Train accuracy: 0.875778, val accuracy: 0.769000\n",
      "Loss: 0.700642, Train accuracy: 0.840556, val accuracy: 0.737000\n",
      "Loss: 0.952507, Train accuracy: 0.874556, val accuracy: 0.757000\n",
      "Loss: 0.702188, Train accuracy: 0.849667, val accuracy: 0.733000\n",
      "Loss: 0.804383, Train accuracy: 0.860778, val accuracy: 0.744000\n",
      "Loss: 1.018130, Train accuracy: 0.858444, val accuracy: 0.734000\n",
      "Loss: 1.085115, Train accuracy: 0.865222, val accuracy: 0.739000\n",
      "Loss: 0.916408, Train accuracy: 0.876000, val accuracy: 0.760000\n",
      "Loss: 0.804843, Train accuracy: 0.865889, val accuracy: 0.759000\n",
      "Loss: 0.670593, Train accuracy: 0.866444, val accuracy: 0.748000\n",
      "Loss: 1.176412, Train accuracy: 0.861000, val accuracy: 0.751000\n",
      "Loss: 0.926941, Train accuracy: 0.863000, val accuracy: 0.726000\n",
      "Loss: 0.884103, Train accuracy: 0.888000, val accuracy: 0.775000\n",
      "Loss: 0.641094, Train accuracy: 0.839556, val accuracy: 0.729000\n",
      "Loss: 1.015849, Train accuracy: 0.869333, val accuracy: 0.761000\n",
      "Loss: 0.803274, Train accuracy: 0.860778, val accuracy: 0.754000\n",
      "Loss: 1.004017, Train accuracy: 0.874667, val accuracy: 0.748000\n",
      "Loss: 1.077722, Train accuracy: 0.873444, val accuracy: 0.760000\n",
      "Loss: 1.082834, Train accuracy: 0.869333, val accuracy: 0.735000\n",
      "Loss: 0.932876, Train accuracy: 0.869111, val accuracy: 0.763000\n",
      "Loss: 0.975269, Train accuracy: 0.875778, val accuracy: 0.755000\n",
      "Loss: 0.784926, Train accuracy: 0.855889, val accuracy: 0.746000\n",
      "Loss: 0.970832, Train accuracy: 0.872444, val accuracy: 0.758000\n",
      "Loss: 0.665332, Train accuracy: 0.877111, val accuracy: 0.762000\n",
      "Loss: 1.265976, Train accuracy: 0.845444, val accuracy: 0.741000\n",
      "Loss: 0.909702, Train accuracy: 0.874444, val accuracy: 0.746000\n",
      "Loss: 0.913531, Train accuracy: 0.851889, val accuracy: 0.729000\n",
      "Loss: 1.185737, Train accuracy: 0.852222, val accuracy: 0.753000\n",
      "Loss: 0.811767, Train accuracy: 0.881111, val accuracy: 0.766000\n",
      "Loss: 0.754804, Train accuracy: 0.864000, val accuracy: 0.755000\n",
      "Loss: 0.962584, Train accuracy: 0.867667, val accuracy: 0.769000\n",
      "Loss: 1.062469, Train accuracy: 0.881222, val accuracy: 0.770000\n",
      "Loss: 0.778583, Train accuracy: 0.887667, val accuracy: 0.767000\n"
     ]
    },
    {
     "name": "stdout",
     "output_type": "stream",
     "text": [
      "Loss: 0.741903, Train accuracy: 0.865444, val accuracy: 0.752000\n",
      "Loss: 0.920585, Train accuracy: 0.862222, val accuracy: 0.738000\n",
      "Loss: 0.771289, Train accuracy: 0.854778, val accuracy: 0.740000\n",
      "Loss: 0.873739, Train accuracy: 0.881556, val accuracy: 0.771000\n",
      "Loss: 0.772710, Train accuracy: 0.842111, val accuracy: 0.743000\n",
      "Loss: 1.028783, Train accuracy: 0.871111, val accuracy: 0.759000\n",
      "Loss: 1.006704, Train accuracy: 0.880556, val accuracy: 0.763000\n",
      "Loss: 1.219231, Train accuracy: 0.868222, val accuracy: 0.748000\n",
      "Loss: 0.866750, Train accuracy: 0.888111, val accuracy: 0.753000\n",
      "Loss: 0.943746, Train accuracy: 0.875222, val accuracy: 0.756000\n",
      "Loss: 1.054823, Train accuracy: 0.856556, val accuracy: 0.738000\n",
      "Loss: 0.941851, Train accuracy: 0.889111, val accuracy: 0.760000\n",
      "Loss: 0.985605, Train accuracy: 0.867778, val accuracy: 0.747000\n",
      "Loss: 1.176458, Train accuracy: 0.839000, val accuracy: 0.740000\n",
      "Loss: 0.786016, Train accuracy: 0.858556, val accuracy: 0.760000\n",
      "Loss: 0.929572, Train accuracy: 0.862000, val accuracy: 0.742000\n",
      "Loss: 0.948985, Train accuracy: 0.872667, val accuracy: 0.748000\n",
      "Loss: 0.826107, Train accuracy: 0.877222, val accuracy: 0.769000\n",
      "Loss: 0.864056, Train accuracy: 0.864889, val accuracy: 0.755000\n",
      "Loss: 0.869675, Train accuracy: 0.877667, val accuracy: 0.750000\n",
      "Loss: 0.742813, Train accuracy: 0.878556, val accuracy: 0.768000\n",
      "Loss: 0.772693, Train accuracy: 0.886111, val accuracy: 0.761000\n",
      "Loss: 0.964998, Train accuracy: 0.874333, val accuracy: 0.750000\n",
      "Loss: 1.040623, Train accuracy: 0.875000, val accuracy: 0.754000\n",
      "Loss: 0.879278, Train accuracy: 0.884778, val accuracy: 0.767000\n",
      "Loss: 0.854557, Train accuracy: 0.888778, val accuracy: 0.762000\n",
      "Loss: 0.959076, Train accuracy: 0.882444, val accuracy: 0.761000\n",
      "Loss: 0.760780, Train accuracy: 0.864000, val accuracy: 0.761000\n",
      "Loss: 0.735590, Train accuracy: 0.878111, val accuracy: 0.751000\n",
      "Loss: 0.809534, Train accuracy: 0.859889, val accuracy: 0.748000\n",
      "Loss: 0.862791, Train accuracy: 0.885111, val accuracy: 0.757000\n",
      "Loss: 1.122264, Train accuracy: 0.880000, val accuracy: 0.763000\n",
      "Loss: 1.018706, Train accuracy: 0.859667, val accuracy: 0.738000\n",
      "Loss: 0.702821, Train accuracy: 0.856111, val accuracy: 0.754000\n",
      "Loss: 1.006265, Train accuracy: 0.874000, val accuracy: 0.758000\n",
      "Loss: 0.926219, Train accuracy: 0.826000, val accuracy: 0.698000\n",
      "Loss: 0.872646, Train accuracy: 0.854778, val accuracy: 0.737000\n",
      "Loss: 1.007510, Train accuracy: 0.870778, val accuracy: 0.740000\n",
      "Loss: 0.888241, Train accuracy: 0.881111, val accuracy: 0.747000\n",
      "Loss: 0.815672, Train accuracy: 0.878333, val accuracy: 0.745000\n",
      "Loss: 0.976681, Train accuracy: 0.874444, val accuracy: 0.773000\n",
      "Loss: 0.979725, Train accuracy: 0.878889, val accuracy: 0.758000\n",
      "Loss: 0.705628, Train accuracy: 0.845333, val accuracy: 0.723000\n",
      "Loss: 0.833731, Train accuracy: 0.837778, val accuracy: 0.723000\n",
      "Loss: 1.248779, Train accuracy: 0.860333, val accuracy: 0.737000\n",
      "Loss: 0.888626, Train accuracy: 0.879222, val accuracy: 0.756000\n",
      "Loss: 1.095478, Train accuracy: 0.855667, val accuracy: 0.743000\n",
      "Loss: 1.093425, Train accuracy: 0.858333, val accuracy: 0.742000\n",
      "Loss: 0.873412, Train accuracy: 0.863222, val accuracy: 0.745000\n",
      "Loss: 0.826491, Train accuracy: 0.860667, val accuracy: 0.744000\n",
      "Loss: 1.137722, Train accuracy: 0.885778, val accuracy: 0.764000\n",
      "Loss: 0.983393, Train accuracy: 0.869889, val accuracy: 0.750000\n",
      "Loss: 1.114507, Train accuracy: 0.877667, val accuracy: 0.767000\n",
      "Loss: 0.716784, Train accuracy: 0.894222, val accuracy: 0.772000\n",
      "Loss: 0.798058, Train accuracy: 0.876333, val accuracy: 0.757000\n",
      "Loss: 0.999613, Train accuracy: 0.847778, val accuracy: 0.738000\n",
      "Loss: 0.955103, Train accuracy: 0.877444, val accuracy: 0.751000\n",
      "Loss: 0.755000, Train accuracy: 0.861000, val accuracy: 0.757000\n",
      "Loss: 1.028121, Train accuracy: 0.858667, val accuracy: 0.741000\n",
      "Loss: 0.954370, Train accuracy: 0.877667, val accuracy: 0.753000\n",
      "Loss: 0.887679, Train accuracy: 0.884778, val accuracy: 0.764000\n",
      "Loss: 0.753739, Train accuracy: 0.884667, val accuracy: 0.773000\n",
      "Loss: 1.016641, Train accuracy: 0.896889, val accuracy: 0.764000\n",
      "Loss: 0.929409, Train accuracy: 0.859667, val accuracy: 0.729000\n",
      "Loss: 0.801012, Train accuracy: 0.868667, val accuracy: 0.742000\n",
      "Loss: 0.950301, Train accuracy: 0.843889, val accuracy: 0.744000\n",
      "Loss: 0.820453, Train accuracy: 0.888222, val accuracy: 0.765000\n",
      "Loss: 0.817510, Train accuracy: 0.887778, val accuracy: 0.763000\n",
      "Loss: 1.102875, Train accuracy: 0.882889, val accuracy: 0.769000\n",
      "Loss: 0.793426, Train accuracy: 0.886111, val accuracy: 0.765000\n",
      "Loss: 0.734850, Train accuracy: 0.892333, val accuracy: 0.758000\n",
      "Loss: 0.675410, Train accuracy: 0.868667, val accuracy: 0.767000\n",
      "Loss: 1.203808, Train accuracy: 0.830111, val accuracy: 0.726000\n",
      "Loss: 0.948911, Train accuracy: 0.879222, val accuracy: 0.767000\n",
      "Loss: 0.746318, Train accuracy: 0.873333, val accuracy: 0.778000\n",
      "*** Trainging with learning_rate=0.03162277660168379, learning_rate_decay=0.999, hidden_layer_size=150\n",
      "Loss: 2.271384, Train accuracy: 0.196667, val accuracy: 0.206000\n",
      "Loss: 1.892555, Train accuracy: 0.323222, val accuracy: 0.333000\n",
      "Loss: 1.600056, Train accuracy: 0.518444, val accuracy: 0.513000\n",
      "Loss: 1.280876, Train accuracy: 0.575444, val accuracy: 0.573000\n",
      "Loss: 1.164960, Train accuracy: 0.649111, val accuracy: 0.637000\n",
      "Loss: 1.461566, Train accuracy: 0.691889, val accuracy: 0.673000\n",
      "Loss: 1.309775, Train accuracy: 0.697556, val accuracy: 0.671000\n",
      "Loss: 1.041055, Train accuracy: 0.710556, val accuracy: 0.684000\n",
      "Loss: 1.389773, Train accuracy: 0.701000, val accuracy: 0.650000\n",
      "Loss: 0.881874, Train accuracy: 0.755444, val accuracy: 0.721000\n",
      "Loss: 1.119947, Train accuracy: 0.762222, val accuracy: 0.705000\n",
      "Loss: 1.339345, Train accuracy: 0.768444, val accuracy: 0.705000\n",
      "Loss: 0.946380, Train accuracy: 0.796667, val accuracy: 0.730000\n",
      "Loss: 1.180483, Train accuracy: 0.751444, val accuracy: 0.704000\n",
      "Loss: 1.024406, Train accuracy: 0.799000, val accuracy: 0.722000\n",
      "Loss: 1.177402, Train accuracy: 0.792778, val accuracy: 0.714000\n",
      "Loss: 1.078859, Train accuracy: 0.795444, val accuracy: 0.730000\n",
      "Loss: 1.189486, Train accuracy: 0.785222, val accuracy: 0.706000\n",
      "Loss: 1.016782, Train accuracy: 0.793778, val accuracy: 0.710000\n",
      "Loss: 1.021129, Train accuracy: 0.817778, val accuracy: 0.736000\n",
      "Loss: 1.096130, Train accuracy: 0.797111, val accuracy: 0.708000\n",
      "Loss: 0.836583, Train accuracy: 0.818444, val accuracy: 0.724000\n",
      "Loss: 1.078635, Train accuracy: 0.812778, val accuracy: 0.720000\n",
      "Loss: 0.910994, Train accuracy: 0.780333, val accuracy: 0.713000\n",
      "Loss: 1.010469, Train accuracy: 0.814778, val accuracy: 0.725000\n",
      "Loss: 0.801785, Train accuracy: 0.824000, val accuracy: 0.741000\n",
      "Loss: 1.123209, Train accuracy: 0.806111, val accuracy: 0.731000\n",
      "Loss: 1.138044, Train accuracy: 0.820333, val accuracy: 0.717000\n",
      "Loss: 0.961067, Train accuracy: 0.829222, val accuracy: 0.731000\n",
      "Loss: 0.852565, Train accuracy: 0.814778, val accuracy: 0.721000\n",
      "Loss: 0.877680, Train accuracy: 0.843111, val accuracy: 0.740000\n",
      "Loss: 0.663844, Train accuracy: 0.846444, val accuracy: 0.752000\n",
      "Loss: 1.032433, Train accuracy: 0.839000, val accuracy: 0.733000\n",
      "Loss: 0.827571, Train accuracy: 0.839889, val accuracy: 0.729000\n",
      "Loss: 0.757708, Train accuracy: 0.817444, val accuracy: 0.706000\n",
      "Loss: 1.003425, Train accuracy: 0.836333, val accuracy: 0.739000\n",
      "Loss: 0.887910, Train accuracy: 0.818111, val accuracy: 0.711000\n",
      "Loss: 0.867514, Train accuracy: 0.829556, val accuracy: 0.736000\n",
      "Loss: 1.008271, Train accuracy: 0.822556, val accuracy: 0.715000\n",
      "Loss: 0.757974, Train accuracy: 0.868556, val accuracy: 0.751000\n",
      "Loss: 0.993519, Train accuracy: 0.851444, val accuracy: 0.728000\n",
      "Loss: 0.840532, Train accuracy: 0.843556, val accuracy: 0.739000\n",
      "Loss: 1.112493, Train accuracy: 0.861667, val accuracy: 0.752000\n",
      "Loss: 0.983941, Train accuracy: 0.824667, val accuracy: 0.729000\n",
      "Loss: 1.162506, Train accuracy: 0.826667, val accuracy: 0.714000\n",
      "Loss: 1.046749, Train accuracy: 0.839889, val accuracy: 0.737000\n",
      "Loss: 0.840610, Train accuracy: 0.839333, val accuracy: 0.739000\n",
      "Loss: 0.958624, Train accuracy: 0.863556, val accuracy: 0.755000\n",
      "Loss: 0.991348, Train accuracy: 0.838778, val accuracy: 0.738000\n",
      "Loss: 0.853230, Train accuracy: 0.840889, val accuracy: 0.741000\n"
     ]
    },
    {
     "name": "stdout",
     "output_type": "stream",
     "text": [
      "Loss: 0.717081, Train accuracy: 0.865667, val accuracy: 0.740000\n",
      "Loss: 0.827134, Train accuracy: 0.859667, val accuracy: 0.748000\n",
      "Loss: 0.846561, Train accuracy: 0.877778, val accuracy: 0.756000\n",
      "Loss: 0.794670, Train accuracy: 0.858444, val accuracy: 0.748000\n",
      "Loss: 1.105185, Train accuracy: 0.858444, val accuracy: 0.737000\n",
      "Loss: 1.278896, Train accuracy: 0.873111, val accuracy: 0.750000\n",
      "Loss: 0.775406, Train accuracy: 0.873000, val accuracy: 0.752000\n",
      "Loss: 0.951322, Train accuracy: 0.841667, val accuracy: 0.729000\n",
      "Loss: 1.038498, Train accuracy: 0.865889, val accuracy: 0.742000\n",
      "Loss: 0.719496, Train accuracy: 0.852778, val accuracy: 0.734000\n",
      "Loss: 1.074192, Train accuracy: 0.869000, val accuracy: 0.760000\n",
      "Loss: 1.136543, Train accuracy: 0.833000, val accuracy: 0.727000\n",
      "Loss: 0.879994, Train accuracy: 0.872333, val accuracy: 0.752000\n",
      "Loss: 0.789294, Train accuracy: 0.854778, val accuracy: 0.742000\n",
      "Loss: 0.992296, Train accuracy: 0.860778, val accuracy: 0.733000\n",
      "Loss: 0.757703, Train accuracy: 0.855111, val accuracy: 0.738000\n",
      "Loss: 1.074392, Train accuracy: 0.861333, val accuracy: 0.739000\n",
      "Loss: 0.851842, Train accuracy: 0.872333, val accuracy: 0.751000\n",
      "Loss: 0.809899, Train accuracy: 0.880889, val accuracy: 0.760000\n",
      "Loss: 0.889581, Train accuracy: 0.852000, val accuracy: 0.743000\n",
      "Loss: 0.936972, Train accuracy: 0.858889, val accuracy: 0.745000\n",
      "Loss: 1.008632, Train accuracy: 0.876111, val accuracy: 0.743000\n",
      "Loss: 0.889628, Train accuracy: 0.851556, val accuracy: 0.744000\n",
      "Loss: 0.814934, Train accuracy: 0.849000, val accuracy: 0.724000\n",
      "Loss: 0.864807, Train accuracy: 0.863111, val accuracy: 0.743000\n",
      "Loss: 1.017722, Train accuracy: 0.850556, val accuracy: 0.725000\n",
      "Loss: 0.864615, Train accuracy: 0.875444, val accuracy: 0.763000\n",
      "Loss: 1.060363, Train accuracy: 0.853667, val accuracy: 0.745000\n",
      "Loss: 0.763661, Train accuracy: 0.900111, val accuracy: 0.767000\n",
      "Loss: 1.102090, Train accuracy: 0.855444, val accuracy: 0.740000\n",
      "Loss: 0.915365, Train accuracy: 0.839556, val accuracy: 0.736000\n",
      "Loss: 0.971721, Train accuracy: 0.877000, val accuracy: 0.754000\n",
      "Loss: 0.945130, Train accuracy: 0.876556, val accuracy: 0.740000\n",
      "Loss: 0.920199, Train accuracy: 0.885222, val accuracy: 0.751000\n",
      "Loss: 0.931552, Train accuracy: 0.875667, val accuracy: 0.732000\n",
      "Loss: 0.868929, Train accuracy: 0.868444, val accuracy: 0.747000\n",
      "Loss: 1.084769, Train accuracy: 0.880667, val accuracy: 0.765000\n",
      "Loss: 0.822100, Train accuracy: 0.839000, val accuracy: 0.726000\n",
      "Loss: 0.794892, Train accuracy: 0.847000, val accuracy: 0.742000\n",
      "Loss: 1.087808, Train accuracy: 0.858556, val accuracy: 0.729000\n",
      "Loss: 1.159526, Train accuracy: 0.883444, val accuracy: 0.757000\n",
      "Loss: 0.915558, Train accuracy: 0.882222, val accuracy: 0.756000\n",
      "Loss: 0.763634, Train accuracy: 0.869889, val accuracy: 0.743000\n",
      "Loss: 1.089302, Train accuracy: 0.824222, val accuracy: 0.722000\n",
      "Loss: 0.890321, Train accuracy: 0.878667, val accuracy: 0.748000\n",
      "Loss: 0.921385, Train accuracy: 0.845222, val accuracy: 0.726000\n",
      "Loss: 0.781250, Train accuracy: 0.857556, val accuracy: 0.733000\n",
      "Loss: 0.666683, Train accuracy: 0.852667, val accuracy: 0.741000\n",
      "Loss: 0.953844, Train accuracy: 0.885111, val accuracy: 0.757000\n",
      "Loss: 0.830608, Train accuracy: 0.883778, val accuracy: 0.753000\n",
      "Loss: 0.962594, Train accuracy: 0.858000, val accuracy: 0.737000\n",
      "Loss: 0.663147, Train accuracy: 0.876333, val accuracy: 0.751000\n",
      "Loss: 0.890887, Train accuracy: 0.857444, val accuracy: 0.718000\n",
      "Loss: 1.091762, Train accuracy: 0.874778, val accuracy: 0.755000\n",
      "Loss: 0.982500, Train accuracy: 0.870667, val accuracy: 0.746000\n",
      "Loss: 0.847024, Train accuracy: 0.885778, val accuracy: 0.755000\n",
      "Loss: 1.117136, Train accuracy: 0.839111, val accuracy: 0.723000\n",
      "Loss: 1.074932, Train accuracy: 0.886222, val accuracy: 0.746000\n",
      "Loss: 0.822564, Train accuracy: 0.878778, val accuracy: 0.753000\n",
      "Loss: 0.656794, Train accuracy: 0.879333, val accuracy: 0.761000\n",
      "Loss: 0.821112, Train accuracy: 0.882444, val accuracy: 0.757000\n",
      "Loss: 0.733579, Train accuracy: 0.864667, val accuracy: 0.744000\n",
      "Loss: 0.933870, Train accuracy: 0.859111, val accuracy: 0.751000\n",
      "Loss: 0.863231, Train accuracy: 0.861222, val accuracy: 0.749000\n",
      "Loss: 0.732563, Train accuracy: 0.888889, val accuracy: 0.765000\n",
      "Loss: 0.916181, Train accuracy: 0.860222, val accuracy: 0.741000\n",
      "Loss: 1.078187, Train accuracy: 0.860889, val accuracy: 0.728000\n",
      "Loss: 0.925699, Train accuracy: 0.883667, val accuracy: 0.751000\n",
      "Loss: 0.824791, Train accuracy: 0.869556, val accuracy: 0.757000\n",
      "Loss: 1.177922, Train accuracy: 0.879444, val accuracy: 0.745000\n",
      "Loss: 0.803746, Train accuracy: 0.907889, val accuracy: 0.767000\n",
      "Loss: 1.011874, Train accuracy: 0.865222, val accuracy: 0.751000\n",
      "Loss: 0.748710, Train accuracy: 0.880000, val accuracy: 0.764000\n",
      "Loss: 0.808564, Train accuracy: 0.869222, val accuracy: 0.743000\n",
      "Loss: 1.182354, Train accuracy: 0.867889, val accuracy: 0.741000\n",
      "Loss: 1.155158, Train accuracy: 0.899222, val accuracy: 0.777000\n",
      "Loss: 0.813969, Train accuracy: 0.895667, val accuracy: 0.763000\n",
      "Loss: 0.978100, Train accuracy: 0.834333, val accuracy: 0.710000\n",
      "Loss: 1.062303, Train accuracy: 0.857889, val accuracy: 0.740000\n",
      "Loss: 0.797251, Train accuracy: 0.862667, val accuracy: 0.748000\n",
      "Loss: 0.955645, Train accuracy: 0.873333, val accuracy: 0.744000\n",
      "Loss: 1.048442, Train accuracy: 0.859222, val accuracy: 0.732000\n",
      "Loss: 1.109292, Train accuracy: 0.901333, val accuracy: 0.767000\n",
      "Loss: 0.879075, Train accuracy: 0.880222, val accuracy: 0.748000\n",
      "Loss: 0.827679, Train accuracy: 0.875667, val accuracy: 0.744000\n",
      "Loss: 0.969271, Train accuracy: 0.850778, val accuracy: 0.736000\n",
      "Loss: 1.128986, Train accuracy: 0.877111, val accuracy: 0.751000\n",
      "Loss: 1.037128, Train accuracy: 0.885778, val accuracy: 0.755000\n",
      "Loss: 1.094877, Train accuracy: 0.876667, val accuracy: 0.741000\n",
      "Loss: 0.932013, Train accuracy: 0.868444, val accuracy: 0.755000\n",
      "Loss: 0.900595, Train accuracy: 0.875111, val accuracy: 0.737000\n",
      "Loss: 1.156698, Train accuracy: 0.888222, val accuracy: 0.755000\n",
      "Loss: 0.827234, Train accuracy: 0.887889, val accuracy: 0.753000\n",
      "Loss: 0.888441, Train accuracy: 0.874222, val accuracy: 0.751000\n",
      "Loss: 0.883599, Train accuracy: 0.834667, val accuracy: 0.728000\n",
      "Loss: 1.109728, Train accuracy: 0.874333, val accuracy: 0.740000\n",
      "Loss: 1.162562, Train accuracy: 0.882556, val accuracy: 0.764000\n",
      "Loss: 0.673023, Train accuracy: 0.879667, val accuracy: 0.749000\n",
      "Loss: 1.117235, Train accuracy: 0.885000, val accuracy: 0.763000\n",
      "Loss: 0.818014, Train accuracy: 0.870222, val accuracy: 0.746000\n",
      "Loss: 0.864425, Train accuracy: 0.903333, val accuracy: 0.752000\n",
      "Loss: 0.891353, Train accuracy: 0.885667, val accuracy: 0.759000\n",
      "Loss: 0.795797, Train accuracy: 0.852111, val accuracy: 0.740000\n",
      "Loss: 0.758345, Train accuracy: 0.868000, val accuracy: 0.730000\n",
      "Loss: 0.860419, Train accuracy: 0.905667, val accuracy: 0.773000\n",
      "Loss: 0.867251, Train accuracy: 0.873556, val accuracy: 0.743000\n",
      "Loss: 0.870983, Train accuracy: 0.903444, val accuracy: 0.773000\n",
      "Loss: 0.703758, Train accuracy: 0.885444, val accuracy: 0.762000\n",
      "Loss: 0.850085, Train accuracy: 0.861111, val accuracy: 0.744000\n",
      "Loss: 0.833283, Train accuracy: 0.900778, val accuracy: 0.766000\n",
      "Loss: 0.681102, Train accuracy: 0.870444, val accuracy: 0.744000\n",
      "Loss: 1.142675, Train accuracy: 0.867556, val accuracy: 0.725000\n",
      "Loss: 0.946350, Train accuracy: 0.886222, val accuracy: 0.740000\n",
      "Loss: 0.961973, Train accuracy: 0.880000, val accuracy: 0.749000\n",
      "Loss: 0.900227, Train accuracy: 0.883889, val accuracy: 0.739000\n",
      "Loss: 0.862992, Train accuracy: 0.897000, val accuracy: 0.769000\n",
      "Loss: 0.905524, Train accuracy: 0.882667, val accuracy: 0.732000\n",
      "Loss: 0.758630, Train accuracy: 0.870000, val accuracy: 0.752000\n",
      "Loss: 0.891550, Train accuracy: 0.877000, val accuracy: 0.740000\n",
      "Loss: 0.853398, Train accuracy: 0.889222, val accuracy: 0.757000\n",
      "Loss: 0.703149, Train accuracy: 0.907556, val accuracy: 0.782000\n",
      "Loss: 0.772193, Train accuracy: 0.884333, val accuracy: 0.769000\n",
      "Loss: 1.108793, Train accuracy: 0.867222, val accuracy: 0.735000\n",
      "Loss: 0.822111, Train accuracy: 0.889222, val accuracy: 0.768000\n",
      "Loss: 1.092570, Train accuracy: 0.892889, val accuracy: 0.757000\n"
     ]
    },
    {
     "ename": "KeyboardInterrupt",
     "evalue": "",
     "output_type": "error",
     "traceback": [
      "\u001b[0;31m---------------------------------------------------------------------------\u001b[0m",
      "\u001b[0;31mKeyboardInterrupt\u001b[0m                         Traceback (most recent call last)",
      "\u001b[0;32m<ipython-input-5-dac9ec35034f>\u001b[0m in \u001b[0;36m<module>\u001b[0;34m\u001b[0m\n\u001b[1;32m     30\u001b[0m         \u001b[0mtrainer\u001b[0m \u001b[0;34m=\u001b[0m \u001b[0mTrainer\u001b[0m\u001b[0;34m(\u001b[0m\u001b[0mmodel\u001b[0m\u001b[0;34m,\u001b[0m \u001b[0mdataset\u001b[0m\u001b[0;34m,\u001b[0m \u001b[0mMomentumSGD\u001b[0m\u001b[0;34m(\u001b[0m\u001b[0;34m)\u001b[0m\u001b[0;34m,\u001b[0m \u001b[0mlearning_rate\u001b[0m\u001b[0;34m=\u001b[0m\u001b[0mlearning_rate\u001b[0m\u001b[0;34m,\u001b[0m \u001b[0mlearning_rate_decay\u001b[0m\u001b[0;34m=\u001b[0m\u001b[0mlearning_rate_decay\u001b[0m\u001b[0;34m,\u001b[0m \u001b[0mnum_epochs\u001b[0m\u001b[0;34m=\u001b[0m\u001b[0mnum_epochs\u001b[0m\u001b[0;34m,\u001b[0m \u001b[0mbatch_size\u001b[0m\u001b[0;34m=\u001b[0m\u001b[0mbatch_size\u001b[0m\u001b[0;34m)\u001b[0m\u001b[0;34m\u001b[0m\u001b[0;34m\u001b[0m\u001b[0m\n\u001b[1;32m     31\u001b[0m \u001b[0;34m\u001b[0m\u001b[0m\n\u001b[0;32m---> 32\u001b[0;31m         \u001b[0mloss_history\u001b[0m\u001b[0;34m,\u001b[0m \u001b[0mtrain_history\u001b[0m\u001b[0;34m,\u001b[0m \u001b[0mval_history\u001b[0m \u001b[0;34m=\u001b[0m \u001b[0mtrainer\u001b[0m\u001b[0;34m.\u001b[0m\u001b[0mfit\u001b[0m\u001b[0;34m(\u001b[0m\u001b[0;34m)\u001b[0m\u001b[0;34m\u001b[0m\u001b[0;34m\u001b[0m\u001b[0m\n\u001b[0m\u001b[1;32m     33\u001b[0m         \u001b[0;32mif\u001b[0m \u001b[0mbest_val_accuracy\u001b[0m \u001b[0;34m<\u001b[0m \u001b[0mval_history\u001b[0m\u001b[0;34m[\u001b[0m\u001b[0;34m-\u001b[0m\u001b[0;36m1\u001b[0m\u001b[0;34m]\u001b[0m\u001b[0;34m:\u001b[0m\u001b[0;34m\u001b[0m\u001b[0;34m\u001b[0m\u001b[0m\n\u001b[1;32m     34\u001b[0m             \u001b[0mbest_val_accuracy\u001b[0m \u001b[0;34m=\u001b[0m \u001b[0mval_history\u001b[0m\u001b[0;34m[\u001b[0m\u001b[0;34m-\u001b[0m\u001b[0;36m1\u001b[0m\u001b[0;34m]\u001b[0m\u001b[0;34m\u001b[0m\u001b[0;34m\u001b[0m\u001b[0m\n",
      "\u001b[0;32m~/PythonProjects/dl_nsu/assignment2/trainer.py\u001b[0m in \u001b[0;36mfit\u001b[0;34m(self)\u001b[0m\n\u001b[1;32m    104\u001b[0m                 \u001b[0mbatch_y\u001b[0m \u001b[0;34m=\u001b[0m \u001b[0mself\u001b[0m\u001b[0;34m.\u001b[0m\u001b[0mdataset\u001b[0m\u001b[0;34m.\u001b[0m\u001b[0mtrain_y\u001b[0m\u001b[0;34m[\u001b[0m\u001b[0mbatch_indices\u001b[0m\u001b[0;34m]\u001b[0m\u001b[0;34m\u001b[0m\u001b[0;34m\u001b[0m\u001b[0m\n\u001b[1;32m    105\u001b[0m \u001b[0;34m\u001b[0m\u001b[0m\n\u001b[0;32m--> 106\u001b[0;31m                 \u001b[0mloss\u001b[0m \u001b[0;34m=\u001b[0m \u001b[0mself\u001b[0m\u001b[0;34m.\u001b[0m\u001b[0mmodel\u001b[0m\u001b[0;34m.\u001b[0m\u001b[0mcompute_loss_and_gradients\u001b[0m\u001b[0;34m(\u001b[0m\u001b[0mbatch_X\u001b[0m\u001b[0;34m,\u001b[0m \u001b[0mbatch_y\u001b[0m\u001b[0;34m)\u001b[0m\u001b[0;34m\u001b[0m\u001b[0;34m\u001b[0m\u001b[0m\n\u001b[0m\u001b[1;32m    107\u001b[0m \u001b[0;34m\u001b[0m\u001b[0m\n\u001b[1;32m    108\u001b[0m                 \u001b[0;32mfor\u001b[0m \u001b[0mparam_name\u001b[0m\u001b[0;34m,\u001b[0m \u001b[0mparam\u001b[0m \u001b[0;32min\u001b[0m \u001b[0mself\u001b[0m\u001b[0;34m.\u001b[0m\u001b[0mmodel\u001b[0m\u001b[0;34m.\u001b[0m\u001b[0mget_params\u001b[0m\u001b[0;34m(\u001b[0m\u001b[0;34m)\u001b[0m\u001b[0;34m.\u001b[0m\u001b[0mitems\u001b[0m\u001b[0;34m(\u001b[0m\u001b[0;34m)\u001b[0m\u001b[0;34m:\u001b[0m\u001b[0;34m\u001b[0m\u001b[0;34m\u001b[0m\u001b[0m\n",
      "\u001b[0;32m~/PythonProjects/dl_nsu/assignment2/model.py\u001b[0m in \u001b[0;36mcompute_loss_and_gradients\u001b[0;34m(self, X, y)\u001b[0m\n\u001b[1;32m     49\u001b[0m         \u001b[0md_layer\u001b[0m \u001b[0;34m=\u001b[0m \u001b[0md_output\u001b[0m\u001b[0;34m\u001b[0m\u001b[0;34m\u001b[0m\u001b[0m\n\u001b[1;32m     50\u001b[0m         \u001b[0;32mfor\u001b[0m \u001b[0mlayer\u001b[0m \u001b[0;32min\u001b[0m \u001b[0mreversed\u001b[0m\u001b[0;34m(\u001b[0m\u001b[0mself\u001b[0m\u001b[0;34m.\u001b[0m\u001b[0mlayers\u001b[0m\u001b[0;34m)\u001b[0m\u001b[0;34m:\u001b[0m\u001b[0;34m\u001b[0m\u001b[0;34m\u001b[0m\u001b[0m\n\u001b[0;32m---> 51\u001b[0;31m             \u001b[0md_layer\u001b[0m \u001b[0;34m=\u001b[0m \u001b[0mlayer\u001b[0m\u001b[0;34m.\u001b[0m\u001b[0mbackward\u001b[0m\u001b[0;34m(\u001b[0m\u001b[0md_layer\u001b[0m\u001b[0;34m)\u001b[0m\u001b[0;34m\u001b[0m\u001b[0;34m\u001b[0m\u001b[0m\n\u001b[0m\u001b[1;32m     52\u001b[0m \u001b[0;34m\u001b[0m\u001b[0m\n\u001b[1;32m     53\u001b[0m         \u001b[0;31m#L2 regularization\u001b[0m\u001b[0;34m\u001b[0m\u001b[0;34m\u001b[0m\u001b[0;34m\u001b[0m\u001b[0m\n",
      "\u001b[0;32m~/PythonProjects/dl_nsu/assignment2/layers.py\u001b[0m in \u001b[0;36mbackward\u001b[0;34m(self, d_out)\u001b[0m\n\u001b[1;32m    116\u001b[0m         \u001b[0mself\u001b[0m\u001b[0;34m.\u001b[0m\u001b[0mB\u001b[0m\u001b[0;34m.\u001b[0m\u001b[0mgrad\u001b[0m \u001b[0;34m=\u001b[0m \u001b[0md_B\u001b[0m\u001b[0;34m[\u001b[0m\u001b[0mnp\u001b[0m\u001b[0;34m.\u001b[0m\u001b[0mnewaxis\u001b[0m\u001b[0;34m,\u001b[0m \u001b[0;34m:\u001b[0m\u001b[0;34m]\u001b[0m\u001b[0;34m\u001b[0m\u001b[0;34m\u001b[0m\u001b[0m\n\u001b[1;32m    117\u001b[0m \u001b[0;34m\u001b[0m\u001b[0m\n\u001b[0;32m--> 118\u001b[0;31m         \u001b[0md_W\u001b[0m \u001b[0;34m=\u001b[0m \u001b[0mnp\u001b[0m\u001b[0;34m.\u001b[0m\u001b[0mdot\u001b[0m\u001b[0;34m(\u001b[0m\u001b[0mself\u001b[0m\u001b[0;34m.\u001b[0m\u001b[0mX\u001b[0m\u001b[0;34m.\u001b[0m\u001b[0mT\u001b[0m\u001b[0;34m,\u001b[0m \u001b[0md_out\u001b[0m\u001b[0;34m)\u001b[0m\u001b[0;34m\u001b[0m\u001b[0;34m\u001b[0m\u001b[0m\n\u001b[0m\u001b[1;32m    119\u001b[0m         \u001b[0mself\u001b[0m\u001b[0;34m.\u001b[0m\u001b[0mW\u001b[0m\u001b[0;34m.\u001b[0m\u001b[0mgrad\u001b[0m \u001b[0;34m=\u001b[0m \u001b[0md_W\u001b[0m\u001b[0;34m\u001b[0m\u001b[0;34m\u001b[0m\u001b[0m\n\u001b[1;32m    120\u001b[0m \u001b[0;34m\u001b[0m\u001b[0m\n",
      "\u001b[0;31mKeyboardInterrupt\u001b[0m: "
     ]
    }
   ],
   "source": [
    "# Let's train the best one-hidden-layer network we can\n",
    "\n",
    "learning_rates = 1e-2\n",
    "reg_strength = 1e-3\n",
    "learning_rate_decay = 0.999\n",
    "hidden_layer_size = 128\n",
    "num_epochs = 200\n",
    "batch_size = 64\n",
    "\n",
    "best_classifier = None\n",
    "best_val_accuracy = None\n",
    "\n",
    "loss_history = []\n",
    "train_history = []\n",
    "val_history = []\n",
    "\n",
    "# TODO find the best hyperparameters to train the network\n",
    "# Don't hesitate to add new values to the arrays above, perform experiments, use any tricks you want\n",
    "# You should expect to get to at least 40% of valudation accuracy\n",
    "# Save loss/train/history of the best classifier to the variables above\n",
    "\n",
    "\n",
    "best_val_accuracy = 0\n",
    "for learning_rate in 10**np.linspace(-1.5, -3, 3):\n",
    "    for hidden_layer_size in [100, 150]:\n",
    "        print(f\"*** Trainging with learning_rate={learning_rate}, learning_rate_decay={learning_rate_decay}, hidden_layer_size={hidden_layer_size}\")\n",
    "\n",
    "        model = TwoLayerNet(n_input = train_X.shape[1], n_output = 10, hidden_layer_size = hidden_layer_size, reg = reg_strength)\n",
    "        dataset = Dataset(train_X, train_y, val_X, val_y)\n",
    "        trainer = Trainer(model, dataset, MomentumSGD(), learning_rate=learning_rate, learning_rate_decay=learning_rate_decay, num_epochs=num_epochs, batch_size=batch_size)\n",
    "\n",
    "        loss_history, train_history, val_history = trainer.fit()\n",
    "        if best_val_accuracy < val_history[-1]:\n",
    "            best_val_accuracy = val_history[-1]\n",
    "            best_classifier = model\n",
    "            best_hypers = [learning_rate, learning_rate_decay, hidden_layer_size]\n",
    "\n",
    "print('best validation accuracy achieved: %f' % best_val_accuracy)"
   ]
  },
  {
   "cell_type": "code",
   "execution_count": 6,
   "metadata": {},
   "outputs": [
    {
     "name": "stdout",
     "output_type": "stream",
     "text": [
      "best hypers: [0.03162277660168379, 0.999, 100]\n"
     ]
    }
   ],
   "source": [
    "print(f'best hypers: {best_hypers}')"
   ]
  },
  {
   "cell_type": "code",
   "execution_count": 7,
   "metadata": {},
   "outputs": [
    {
     "data": {
      "text/plain": [
       "[<matplotlib.lines.Line2D at 0x7fa7a2a0c0b8>]"
      ]
     },
     "execution_count": 7,
     "metadata": {},
     "output_type": "execute_result"
    },
    {
     "data": {
      "image/png": "[encoded data removed]",
      "text/plain": [
       "<Figure size 1080x504 with 2 Axes>"
      ]
     },
     "metadata": {
      "needs_background": "light"
     },
     "output_type": "display_data"
    }
   ],
   "source": [
    "plt.figure(figsize=(15, 7))\n",
    "plt.subplot(211)\n",
    "plt.title(\"Loss\")\n",
    "plt.plot(loss_history)\n",
    "plt.subplot(212)\n",
    "plt.title(\"Train/validation accuracy\")\n",
    "plt.plot(train_history)\n",
    "plt.plot(val_history)"
   ]
  },
  {
   "cell_type": "markdown",
   "metadata": {},
   "source": [
    "# Как обычно, посмотрим, как наша лучшая модель работает на тестовых данных"
   ]
  },
  {
   "cell_type": "code",
   "execution_count": 8,
   "metadata": {},
   "outputs": [
    {
     "name": "stdout",
     "output_type": "stream",
     "text": [
      "Neural net test set accuracy: 0.725000\n"
     ]
    }
   ],
   "source": [
    "test_pred = best_classifier.predict(test_X)\n",
    "test_accuracy = multiclass_accuracy(test_pred, test_y)\n",
    "print('Neural net test set accuracy: %f' % (test_accuracy, ))"
   ]
  },
  {
   "cell_type": "code",
   "execution_count": null,
   "metadata": {},
   "outputs": [],
   "source": []
  }
 ],
 "metadata": {
  "kernelspec": {
   "display_name": "Python 3",
   "language": "python",
   "name": "python3"
  },
  "language_info": {
   "codemirror_mode": {
    "name": "ipython",
    "version": 3
   },
   "file_extension": ".py",
   "mimetype": "text/x-python",
   "name": "python",
   "nbconvert_exporter": "python",
   "pygments_lexer": "ipython3",
   "version": "3.6.8"
  }
 },
 "nbformat": 4,
 "nbformat_minor": 2
}
